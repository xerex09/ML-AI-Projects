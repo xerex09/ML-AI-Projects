{
 "cells": [
  {
   "cell_type": "code",
   "execution_count": 1,
   "metadata": {},
   "outputs": [],
   "source": [
    "import re\n",
    "\n",
    "import pandas as pd\n",
    "\n",
    "from sklearn.ensemble import GradientBoostingRegressor, RandomForestRegressor\n",
    "from sklearn.metrics import mean_absolute_error, mean_squared_error\n",
    "from sklearn.model_selection import GridSearchCV, train_test_split\n",
    "from sklearn.preprocessing import LabelEncoder\n",
    "from sklearn.svm import LinearSVR"
   ]
  },
  {
   "cell_type": "code",
   "execution_count": 2,
   "metadata": {},
   "outputs": [],
   "source": [
    "data_source = pd.read_csv('incident.csv')"
   ]
  },
  {
   "cell_type": "code",
   "execution_count": 3,
   "metadata": {},
   "outputs": [
    {
     "data": {
      "text/html": [
       "<div>\n",
       "<style scoped>\n",
       "    .dataframe tbody tr th:only-of-type {\n",
       "        vertical-align: middle;\n",
       "    }\n",
       "\n",
       "    .dataframe tbody tr th {\n",
       "        vertical-align: top;\n",
       "    }\n",
       "\n",
       "    .dataframe thead th {\n",
       "        text-align: right;\n",
       "    }\n",
       "</style>\n",
       "<table border=\"1\" class=\"dataframe\">\n",
       "  <thead>\n",
       "    <tr style=\"text-align: right;\">\n",
       "      <th></th>\n",
       "      <th>number</th>\n",
       "      <th>opened_at</th>\n",
       "      <th>state</th>\n",
       "      <th>assignment_group</th>\n",
       "      <th>assigned_to</th>\n",
       "      <th>short_description</th>\n",
       "      <th>description</th>\n",
       "      <th>contact_type</th>\n",
       "      <th>reopen_count</th>\n",
       "      <th>resolved_at</th>\n",
       "      <th>close_code</th>\n",
       "      <th>close_notes</th>\n",
       "      <th>closed_at</th>\n",
       "    </tr>\n",
       "  </thead>\n",
       "  <tbody>\n",
       "    <tr>\n",
       "      <th>0</th>\n",
       "      <td>INC0331268</td>\n",
       "      <td>2023-03-11 21:49:01</td>\n",
       "      <td>Closed</td>\n",
       "      <td>NY DB</td>\n",
       "      <td>Nirali Patel</td>\n",
       "      <td>Error on WiFi Router - Laptop Issues - 401</td>\n",
       "      <td>User reported Error on WiFi Router - Laptop Is...</td>\n",
       "      <td>Self-service</td>\n",
       "      <td>3</td>\n",
       "      <td>2023-11-12 00:18:49</td>\n",
       "      <td>Resolved by request</td>\n",
       "      <td>Resolution Notes for Error on WiFi Router - La...</td>\n",
       "      <td>2023-12-20 12:51:27</td>\n",
       "    </tr>\n",
       "    <tr>\n",
       "      <th>1</th>\n",
       "      <td>INC0331267</td>\n",
       "      <td>2023-10-07 12:14:11</td>\n",
       "      <td>Closed</td>\n",
       "      <td>Business Application Registration Approval Group</td>\n",
       "      <td>Amelia Caputo</td>\n",
       "      <td>Issue on User Account - Security Incidents - 407</td>\n",
       "      <td>User reported Issue on User Account - Security...</td>\n",
       "      <td>Self-service</td>\n",
       "      <td>7</td>\n",
       "      <td>2024-02-09 17:31:12</td>\n",
       "      <td>Resolved by change</td>\n",
       "      <td>Resolution Notes for Issue on User Account - S...</td>\n",
       "      <td>2024-02-11 13:24:25</td>\n",
       "    </tr>\n",
       "    <tr>\n",
       "      <th>2</th>\n",
       "      <td>INC0331266</td>\n",
       "      <td>2022-09-20 19:32:41</td>\n",
       "      <td>Closed</td>\n",
       "      <td>Catalog Request Approvers for Sales</td>\n",
       "      <td>Vivian Brzostowski</td>\n",
       "      <td>Issue on Printer - WiFi Problems - 848</td>\n",
       "      <td>User reported Issue on Printer - WiFi Problems...</td>\n",
       "      <td>Chat</td>\n",
       "      <td>6</td>\n",
       "      <td>2022-09-25 10:00:00</td>\n",
       "      <td>Workaround provided</td>\n",
       "      <td>Resolution Notes for Issue on Printer - WiFi P...</td>\n",
       "      <td>2023-07-18 19:22:36</td>\n",
       "    </tr>\n",
       "    <tr>\n",
       "      <th>3</th>\n",
       "      <td>INC0331265</td>\n",
       "      <td>2023-11-20 18:34:40</td>\n",
       "      <td>Closed</td>\n",
       "      <td>San Diego Tech Lounge</td>\n",
       "      <td>Mitch Schattner</td>\n",
       "      <td>Malfunction on Mobile Device - Laptop Issues -...</td>\n",
       "      <td>User reported Malfunction on Mobile Device - L...</td>\n",
       "      <td>Chat</td>\n",
       "      <td>1</td>\n",
       "      <td>2024-01-30 04:55:21</td>\n",
       "      <td>Resolved by caller</td>\n",
       "      <td>Resolution Notes for Malfunction on Mobile Dev...</td>\n",
       "      <td>2024-02-04 23:35:20</td>\n",
       "    </tr>\n",
       "    <tr>\n",
       "      <th>4</th>\n",
       "      <td>INC0331264</td>\n",
       "      <td>2023-11-10 22:43:08</td>\n",
       "      <td>Closed</td>\n",
       "      <td>San Diego Tech Lounge</td>\n",
       "      <td>Isaac Zackery</td>\n",
       "      <td>Issue on Database Server - Software Bugs - 44</td>\n",
       "      <td>User reported Issue on Database Server - Softw...</td>\n",
       "      <td>Email</td>\n",
       "      <td>6</td>\n",
       "      <td>2023-11-18 16:33:32</td>\n",
       "      <td>Resolved by change</td>\n",
       "      <td>Resolution Notes for Issue on Database Server ...</td>\n",
       "      <td>2023-11-29 11:09:17</td>\n",
       "    </tr>\n",
       "  </tbody>\n",
       "</table>\n",
       "</div>"
      ],
      "text/plain": [
       "       number            opened_at   state  \\\n",
       "0  INC0331268  2023-03-11 21:49:01  Closed   \n",
       "1  INC0331267  2023-10-07 12:14:11  Closed   \n",
       "2  INC0331266  2022-09-20 19:32:41  Closed   \n",
       "3  INC0331265  2023-11-20 18:34:40  Closed   \n",
       "4  INC0331264  2023-11-10 22:43:08  Closed   \n",
       "\n",
       "                                   assignment_group         assigned_to  \\\n",
       "0                                             NY DB        Nirali Patel   \n",
       "1  Business Application Registration Approval Group       Amelia Caputo   \n",
       "2               Catalog Request Approvers for Sales  Vivian Brzostowski   \n",
       "3                             San Diego Tech Lounge     Mitch Schattner   \n",
       "4                             San Diego Tech Lounge       Isaac Zackery   \n",
       "\n",
       "                                   short_description  \\\n",
       "0         Error on WiFi Router - Laptop Issues - 401   \n",
       "1   Issue on User Account - Security Incidents - 407   \n",
       "2             Issue on Printer - WiFi Problems - 848   \n",
       "3  Malfunction on Mobile Device - Laptop Issues -...   \n",
       "4      Issue on Database Server - Software Bugs - 44   \n",
       "\n",
       "                                         description  contact_type  \\\n",
       "0  User reported Error on WiFi Router - Laptop Is...  Self-service   \n",
       "1  User reported Issue on User Account - Security...  Self-service   \n",
       "2  User reported Issue on Printer - WiFi Problems...          Chat   \n",
       "3  User reported Malfunction on Mobile Device - L...          Chat   \n",
       "4  User reported Issue on Database Server - Softw...         Email   \n",
       "\n",
       "   reopen_count          resolved_at           close_code  \\\n",
       "0             3  2023-11-12 00:18:49  Resolved by request   \n",
       "1             7  2024-02-09 17:31:12   Resolved by change   \n",
       "2             6  2022-09-25 10:00:00  Workaround provided   \n",
       "3             1  2024-01-30 04:55:21   Resolved by caller   \n",
       "4             6  2023-11-18 16:33:32   Resolved by change   \n",
       "\n",
       "                                         close_notes            closed_at  \n",
       "0  Resolution Notes for Error on WiFi Router - La...  2023-12-20 12:51:27  \n",
       "1  Resolution Notes for Issue on User Account - S...  2024-02-11 13:24:25  \n",
       "2  Resolution Notes for Issue on Printer - WiFi P...  2023-07-18 19:22:36  \n",
       "3  Resolution Notes for Malfunction on Mobile Dev...  2024-02-04 23:35:20  \n",
       "4  Resolution Notes for Issue on Database Server ...  2023-11-29 11:09:17  "
      ]
     },
     "execution_count": 3,
     "metadata": {},
     "output_type": "execute_result"
    }
   ],
   "source": [
    "data_source.head()"
   ]
  },
  {
   "cell_type": "code",
   "execution_count": 4,
   "metadata": {},
   "outputs": [
    {
     "name": "stdout",
     "output_type": "stream",
     "text": [
      "Dataset Shape: (150000, 13)\n",
      "\n",
      "Column Data Types and Description:\n",
      "<class 'pandas.core.frame.DataFrame'>\n",
      "RangeIndex: 150000 entries, 0 to 149999\n",
      "Data columns (total 13 columns):\n",
      " #   Column             Non-Null Count   Dtype \n",
      "---  ------             --------------   ----- \n",
      " 0   number             150000 non-null  object\n",
      " 1   opened_at          150000 non-null  object\n",
      " 2   state              150000 non-null  object\n",
      " 3   assignment_group   150000 non-null  object\n",
      " 4   assigned_to        150000 non-null  object\n",
      " 5   short_description  150000 non-null  object\n",
      " 6   description        150000 non-null  object\n",
      " 7   contact_type       150000 non-null  object\n",
      " 8   reopen_count       150000 non-null  int64 \n",
      " 9   resolved_at        150000 non-null  object\n",
      " 10  close_code         150000 non-null  object\n",
      " 11  close_notes        150000 non-null  object\n",
      " 12  closed_at          150000 non-null  object\n",
      "dtypes: int64(1), object(12)\n",
      "memory usage: 14.9+ MB\n"
     ]
    }
   ],
   "source": [
    "# 1. Understanding the Data Structure\n",
    "print(\"Dataset Shape:\", data_source.shape)\n",
    "print(\"\\nColumn Data Types and Description:\")\n",
    "data_source.info()"
   ]
  },
  {
   "cell_type": "code",
   "execution_count": 5,
   "metadata": {},
   "outputs": [
    {
     "name": "stdout",
     "output_type": "stream",
     "text": [
      "\n",
      "Summary Statistics:\n"
     ]
    },
    {
     "data": {
      "text/html": [
       "<div>\n",
       "<style scoped>\n",
       "    .dataframe tbody tr th:only-of-type {\n",
       "        vertical-align: middle;\n",
       "    }\n",
       "\n",
       "    .dataframe tbody tr th {\n",
       "        vertical-align: top;\n",
       "    }\n",
       "\n",
       "    .dataframe thead th {\n",
       "        text-align: right;\n",
       "    }\n",
       "</style>\n",
       "<table border=\"1\" class=\"dataframe\">\n",
       "  <thead>\n",
       "    <tr style=\"text-align: right;\">\n",
       "      <th></th>\n",
       "      <th>number</th>\n",
       "      <th>opened_at</th>\n",
       "      <th>state</th>\n",
       "      <th>assignment_group</th>\n",
       "      <th>assigned_to</th>\n",
       "      <th>short_description</th>\n",
       "      <th>description</th>\n",
       "      <th>contact_type</th>\n",
       "      <th>reopen_count</th>\n",
       "      <th>resolved_at</th>\n",
       "      <th>close_code</th>\n",
       "      <th>close_notes</th>\n",
       "      <th>closed_at</th>\n",
       "    </tr>\n",
       "  </thead>\n",
       "  <tbody>\n",
       "    <tr>\n",
       "      <th>count</th>\n",
       "      <td>150000</td>\n",
       "      <td>150000</td>\n",
       "      <td>150000</td>\n",
       "      <td>150000</td>\n",
       "      <td>150000</td>\n",
       "      <td>150000</td>\n",
       "      <td>150000</td>\n",
       "      <td>150000</td>\n",
       "      <td>150000.000000</td>\n",
       "      <td>150000</td>\n",
       "      <td>150000</td>\n",
       "      <td>150000</td>\n",
       "      <td>150000</td>\n",
       "    </tr>\n",
       "    <tr>\n",
       "      <th>unique</th>\n",
       "      <td>150000</td>\n",
       "      <td>149792</td>\n",
       "      <td>2</td>\n",
       "      <td>48</td>\n",
       "      <td>627</td>\n",
       "      <td>125200</td>\n",
       "      <td>146100</td>\n",
       "      <td>6</td>\n",
       "      <td>NaN</td>\n",
       "      <td>149592</td>\n",
       "      <td>10</td>\n",
       "      <td>144491</td>\n",
       "      <td>148850</td>\n",
       "    </tr>\n",
       "    <tr>\n",
       "      <th>top</th>\n",
       "      <td>INC0331268</td>\n",
       "      <td>2023-03-22 19:40:42</td>\n",
       "      <td>Closed</td>\n",
       "      <td>Service Desk</td>\n",
       "      <td>Model Manager</td>\n",
       "      <td>Error on Firewall - Software Bugs - 776</td>\n",
       "      <td>User reported Issue on User Account - Software...</td>\n",
       "      <td>Self-service</td>\n",
       "      <td>NaN</td>\n",
       "      <td>2024-02-02 13:06:54</td>\n",
       "      <td>Resolved by caller</td>\n",
       "      <td>Resolution Notes for Error on Database Server ...</td>\n",
       "      <td>2024-03-09 06:29:10</td>\n",
       "    </tr>\n",
       "    <tr>\n",
       "      <th>freq</th>\n",
       "      <td>1</td>\n",
       "      <td>2</td>\n",
       "      <td>149984</td>\n",
       "      <td>6145</td>\n",
       "      <td>296</td>\n",
       "      <td>6</td>\n",
       "      <td>4</td>\n",
       "      <td>42854</td>\n",
       "      <td>NaN</td>\n",
       "      <td>3</td>\n",
       "      <td>15188</td>\n",
       "      <td>4</td>\n",
       "      <td>3</td>\n",
       "    </tr>\n",
       "    <tr>\n",
       "      <th>mean</th>\n",
       "      <td>NaN</td>\n",
       "      <td>NaN</td>\n",
       "      <td>NaN</td>\n",
       "      <td>NaN</td>\n",
       "      <td>NaN</td>\n",
       "      <td>NaN</td>\n",
       "      <td>NaN</td>\n",
       "      <td>NaN</td>\n",
       "      <td>4.507373</td>\n",
       "      <td>NaN</td>\n",
       "      <td>NaN</td>\n",
       "      <td>NaN</td>\n",
       "      <td>NaN</td>\n",
       "    </tr>\n",
       "    <tr>\n",
       "      <th>std</th>\n",
       "      <td>NaN</td>\n",
       "      <td>NaN</td>\n",
       "      <td>NaN</td>\n",
       "      <td>NaN</td>\n",
       "      <td>NaN</td>\n",
       "      <td>NaN</td>\n",
       "      <td>NaN</td>\n",
       "      <td>NaN</td>\n",
       "      <td>2.872279</td>\n",
       "      <td>NaN</td>\n",
       "      <td>NaN</td>\n",
       "      <td>NaN</td>\n",
       "      <td>NaN</td>\n",
       "    </tr>\n",
       "    <tr>\n",
       "      <th>min</th>\n",
       "      <td>NaN</td>\n",
       "      <td>NaN</td>\n",
       "      <td>NaN</td>\n",
       "      <td>NaN</td>\n",
       "      <td>NaN</td>\n",
       "      <td>NaN</td>\n",
       "      <td>NaN</td>\n",
       "      <td>NaN</td>\n",
       "      <td>0.000000</td>\n",
       "      <td>NaN</td>\n",
       "      <td>NaN</td>\n",
       "      <td>NaN</td>\n",
       "      <td>NaN</td>\n",
       "    </tr>\n",
       "    <tr>\n",
       "      <th>25%</th>\n",
       "      <td>NaN</td>\n",
       "      <td>NaN</td>\n",
       "      <td>NaN</td>\n",
       "      <td>NaN</td>\n",
       "      <td>NaN</td>\n",
       "      <td>NaN</td>\n",
       "      <td>NaN</td>\n",
       "      <td>NaN</td>\n",
       "      <td>2.000000</td>\n",
       "      <td>NaN</td>\n",
       "      <td>NaN</td>\n",
       "      <td>NaN</td>\n",
       "      <td>NaN</td>\n",
       "    </tr>\n",
       "    <tr>\n",
       "      <th>50%</th>\n",
       "      <td>NaN</td>\n",
       "      <td>NaN</td>\n",
       "      <td>NaN</td>\n",
       "      <td>NaN</td>\n",
       "      <td>NaN</td>\n",
       "      <td>NaN</td>\n",
       "      <td>NaN</td>\n",
       "      <td>NaN</td>\n",
       "      <td>5.000000</td>\n",
       "      <td>NaN</td>\n",
       "      <td>NaN</td>\n",
       "      <td>NaN</td>\n",
       "      <td>NaN</td>\n",
       "    </tr>\n",
       "    <tr>\n",
       "      <th>75%</th>\n",
       "      <td>NaN</td>\n",
       "      <td>NaN</td>\n",
       "      <td>NaN</td>\n",
       "      <td>NaN</td>\n",
       "      <td>NaN</td>\n",
       "      <td>NaN</td>\n",
       "      <td>NaN</td>\n",
       "      <td>NaN</td>\n",
       "      <td>7.000000</td>\n",
       "      <td>NaN</td>\n",
       "      <td>NaN</td>\n",
       "      <td>NaN</td>\n",
       "      <td>NaN</td>\n",
       "    </tr>\n",
       "    <tr>\n",
       "      <th>max</th>\n",
       "      <td>NaN</td>\n",
       "      <td>NaN</td>\n",
       "      <td>NaN</td>\n",
       "      <td>NaN</td>\n",
       "      <td>NaN</td>\n",
       "      <td>NaN</td>\n",
       "      <td>NaN</td>\n",
       "      <td>NaN</td>\n",
       "      <td>9.000000</td>\n",
       "      <td>NaN</td>\n",
       "      <td>NaN</td>\n",
       "      <td>NaN</td>\n",
       "      <td>NaN</td>\n",
       "    </tr>\n",
       "  </tbody>\n",
       "</table>\n",
       "</div>"
      ],
      "text/plain": [
       "            number            opened_at   state assignment_group  \\\n",
       "count       150000               150000  150000           150000   \n",
       "unique      150000               149792       2               48   \n",
       "top     INC0331268  2023-03-22 19:40:42  Closed     Service Desk   \n",
       "freq             1                    2  149984             6145   \n",
       "mean           NaN                  NaN     NaN              NaN   \n",
       "std            NaN                  NaN     NaN              NaN   \n",
       "min            NaN                  NaN     NaN              NaN   \n",
       "25%            NaN                  NaN     NaN              NaN   \n",
       "50%            NaN                  NaN     NaN              NaN   \n",
       "75%            NaN                  NaN     NaN              NaN   \n",
       "max            NaN                  NaN     NaN              NaN   \n",
       "\n",
       "          assigned_to                        short_description  \\\n",
       "count          150000                                   150000   \n",
       "unique            627                                   125200   \n",
       "top     Model Manager  Error on Firewall - Software Bugs - 776   \n",
       "freq              296                                        6   \n",
       "mean              NaN                                      NaN   \n",
       "std               NaN                                      NaN   \n",
       "min               NaN                                      NaN   \n",
       "25%               NaN                                      NaN   \n",
       "50%               NaN                                      NaN   \n",
       "75%               NaN                                      NaN   \n",
       "max               NaN                                      NaN   \n",
       "\n",
       "                                              description  contact_type  \\\n",
       "count                                              150000        150000   \n",
       "unique                                             146100             6   \n",
       "top     User reported Issue on User Account - Software...  Self-service   \n",
       "freq                                                    4         42854   \n",
       "mean                                                  NaN           NaN   \n",
       "std                                                   NaN           NaN   \n",
       "min                                                   NaN           NaN   \n",
       "25%                                                   NaN           NaN   \n",
       "50%                                                   NaN           NaN   \n",
       "75%                                                   NaN           NaN   \n",
       "max                                                   NaN           NaN   \n",
       "\n",
       "         reopen_count          resolved_at          close_code  \\\n",
       "count   150000.000000               150000              150000   \n",
       "unique            NaN               149592                  10   \n",
       "top               NaN  2024-02-02 13:06:54  Resolved by caller   \n",
       "freq              NaN                    3               15188   \n",
       "mean         4.507373                  NaN                 NaN   \n",
       "std          2.872279                  NaN                 NaN   \n",
       "min          0.000000                  NaN                 NaN   \n",
       "25%          2.000000                  NaN                 NaN   \n",
       "50%          5.000000                  NaN                 NaN   \n",
       "75%          7.000000                  NaN                 NaN   \n",
       "max          9.000000                  NaN                 NaN   \n",
       "\n",
       "                                              close_notes            closed_at  \n",
       "count                                              150000               150000  \n",
       "unique                                             144491               148850  \n",
       "top     Resolution Notes for Error on Database Server ...  2024-03-09 06:29:10  \n",
       "freq                                                    4                    3  \n",
       "mean                                                  NaN                  NaN  \n",
       "std                                                   NaN                  NaN  \n",
       "min                                                   NaN                  NaN  \n",
       "25%                                                   NaN                  NaN  \n",
       "50%                                                   NaN                  NaN  \n",
       "75%                                                   NaN                  NaN  \n",
       "max                                                   NaN                  NaN  "
      ]
     },
     "execution_count": 5,
     "metadata": {},
     "output_type": "execute_result"
    }
   ],
   "source": [
    "# 2. Summary Statistics\n",
    "print(\"\\nSummary Statistics:\")\n",
    "data_source.describe(include='all')"
   ]
  },
  {
   "cell_type": "code",
   "execution_count": 6,
   "metadata": {},
   "outputs": [],
   "source": [
    "data_source['opened_at'] = pd.to_datetime(data_source['opened_at'])\n",
    "data_source['resolved_at'] = pd.to_datetime(data_source['resolved_at'])"
   ]
  },
  {
   "cell_type": "code",
   "execution_count": 7,
   "metadata": {},
   "outputs": [],
   "source": [
    "# We need to find the time to resolution \n",
    "data_source['time_to_resolution'] = (data_source['resolved_at'] - data_source['opened_at']).dt.total_seconds() / (3600*24)"
   ]
  },
  {
   "cell_type": "code",
   "execution_count": 8,
   "metadata": {},
   "outputs": [],
   "source": [
    "# We only need the incidents that are closed\n",
    "closed_incidents = data_source[data_source['state'] == 'Closed']"
   ]
  },
  {
   "cell_type": "code",
   "execution_count": 9,
   "metadata": {},
   "outputs": [],
   "source": [
    "# Removing the outliers\n",
    "Q1 = closed_incidents['time_to_resolution'].quantile(0.25)\n",
    "Q3 = closed_incidents['time_to_resolution'].quantile(0.75)\n",
    "IQR = Q3 - Q1\n",
    "\n",
    "closed_incidents = closed_incidents[(closed_incidents['time_to_resolution'] > Q1 - 1.5 * IQR) & (closed_incidents['time_to_resolution'] < Q3 + 1.5 * IQR)]"
   ]
  },
  {
   "cell_type": "code",
   "execution_count": 10,
   "metadata": {},
   "outputs": [],
   "source": [
    "def extract_error_code(string):\n",
    "    match = re.search(r'\\b\\d+\\b', string)\n",
    "    return match.group(0) if match else 0"
   ]
  },
  {
   "cell_type": "code",
   "execution_count": 11,
   "metadata": {},
   "outputs": [],
   "source": [
    "# Feature Engineering to get the error code from the short description\n",
    "closed_incidents['error_code'] = closed_incidents['short_description'].apply(extract_error_code).astype(int)"
   ]
  },
  {
   "cell_type": "code",
   "execution_count": 12,
   "metadata": {},
   "outputs": [],
   "source": [
    "features = ['assignment_group', 'assigned_to', 'contact_type','error_code']\n",
    "labels = ['time_to_resolution']\n"
   ]
  },
  {
   "cell_type": "code",
   "execution_count": 13,
   "metadata": {},
   "outputs": [],
   "source": [
    "\n",
    "label_encoder = LabelEncoder()"
   ]
  },
  {
   "cell_type": "code",
   "execution_count": 14,
   "metadata": {},
   "outputs": [],
   "source": [
    "for feature in ['assignment_group', 'assigned_to', 'contact_type']:\n",
    "    closed_incidents[feature] = label_encoder.fit_transform(closed_incidents[feature])"
   ]
  },
  {
   "cell_type": "code",
   "execution_count": 15,
   "metadata": {},
   "outputs": [],
   "source": [
    "X_train, X_test, y_train, y_test = train_test_split(closed_incidents[features], closed_incidents[labels].values.ravel(), test_size=0.2, random_state=42)"
   ]
  },
  {
   "cell_type": "code",
   "execution_count": 16,
   "metadata": {},
   "outputs": [],
   "source": [
    "svr_param_grid = {'C': [0.1, 1, 10, 100], 'epsilon': [0.1, 0.01, 0.001]}\n",
    "gb_param_grid = {'n_estimators': [50, 100, 150], 'learning_rate': [0.05, 0.1, 0.2]}\n",
    "rf_param_grid = {'n_estimators': [100, 200, 300], 'max_depth': [None, 10, 20]}"
   ]
  },
  {
   "cell_type": "code",
   "execution_count": 17,
   "metadata": {},
   "outputs": [
    {
     "name": "stdout",
     "output_type": "stream",
     "text": [
      "Fitting 5 folds for each of 12 candidates, totalling 60 fits\n",
      "Mean training scores for Linear SVR:\n",
      "[-22620.34387355 -19619.64962257 -21800.06977283 -28476.51578693\n",
      " -38684.12500615 -31673.44542237 -34112.80275253 -44165.63822799\n",
      " -35340.10490693 -51587.35392637 -51342.30895447 -98690.46484895]\n"
     ]
    },
    {
     "name": "stderr",
     "output_type": "stream",
     "text": [
      "d:\\Codes\\python\\MachineLearningProjects\\ShallowML\\IncidentResponseTime\\.venv\\Lib\\site-packages\\sklearn\\svm\\_base.py:1237: ConvergenceWarning: Liblinear failed to converge, increase the number of iterations.\n",
      "  warnings.warn(\n"
     ]
    }
   ],
   "source": [
    "svr_grid_search = GridSearchCV(LinearSVR(dual=True), svr_param_grid, cv=5, scoring='neg_mean_squared_error',n_jobs=-1, verbose=2, return_train_score=True)\n",
    "svr_grid_search.fit(X_train, y_train)\n",
    "svr_best_model = svr_grid_search.best_estimator_\n",
    "svr_cv_results = svr_grid_search.cv_results_\n",
    "mean_train_scores_svr = svr_cv_results['mean_train_score']\n",
    "print(\"Mean training scores for Linear SVR:\")\n",
    "print(mean_train_scores_svr)"
   ]
  },
  {
   "cell_type": "code",
   "execution_count": 18,
   "metadata": {},
   "outputs": [
    {
     "name": "stdout",
     "output_type": "stream",
     "text": [
      "Fitting 5 folds for each of 9 candidates, totalling 45 fits\n",
      "Mean training scores for Gradient Boosting Regressor:\n",
      "[-18568.13474211 -18545.10608672 -18523.09736029 -18544.36030181\n",
      " -18501.44192475 -18462.25781859 -18500.28847352 -18424.38188706\n",
      " -18356.31492614]\n"
     ]
    }
   ],
   "source": [
    "gb_grid_search = GridSearchCV(GradientBoostingRegressor(), gb_param_grid, cv=5, scoring='neg_mean_squared_error',n_jobs=-1, verbose=2, return_train_score=True)\n",
    "gb_grid_search.fit(X_train, y_train)\n",
    "gb_best_model = gb_grid_search.best_estimator_\n",
    "gb_cv_results = gb_grid_search.cv_results_\n",
    "mean_train_scores_gb = gb_cv_results['mean_train_score']\n",
    "print(\"Mean training scores for Gradient Boosting Regressor:\")\n",
    "print(mean_train_scores_gb)"
   ]
  },
  {
   "cell_type": "code",
   "execution_count": 19,
   "metadata": {},
   "outputs": [],
   "source": [
    "# rf_grid_search = GridSearchCV(RandomForestRegressor(), rf_param_grid, cv=5, scoring='neg_mean_squared_error')\n",
    "# rf_grid_search.fit(X_train, y_train)\n",
    "# rf_best_model = rf_grid_search.best_estimator_"
   ]
  },
  {
   "cell_type": "code",
   "execution_count": 20,
   "metadata": {},
   "outputs": [],
   "source": [
    "svr_y_pred = svr_best_model.predict(X_test)\n",
    "gb_y_pred = gb_best_model.predict(X_test)\n",
    "# rf_y_pred = rf_best_model.predict(X_test)\n"
   ]
  },
  {
   "cell_type": "code",
   "execution_count": 21,
   "metadata": {},
   "outputs": [
    {
     "name": "stdout",
     "output_type": "stream",
     "text": [
      "Linear SVR Mean Squared Error: 24302.069176781475\n",
      "Linear SVR Mean Absolute Error: 113.51486422643849\n"
     ]
    }
   ],
   "source": [
    "mse_svr = mean_squared_error(y_test, svr_y_pred)\n",
    "mae_svr = mean_absolute_error(y_test, svr_y_pred)\n",
    "\n",
    "print(\"Linear SVR Mean Squared Error:\", mse_svr)\n",
    "print(\"Linear SVR Mean Absolute Error:\", mae_svr)"
   ]
  },
  {
   "cell_type": "code",
   "execution_count": 25,
   "metadata": {},
   "outputs": [
    {
     "name": "stdout",
     "output_type": "stream",
     "text": [
      "Gradient Boosting Regressor Mean Squared Error: 19055.995151951884\n",
      "Gradient Boosting Regressor Mean Absolute Error: 113.9344848395556\n"
     ]
    }
   ],
   "source": [
    "mse_gb = mean_squared_error(y_test, gb_y_pred)\n",
    "mae_gb = mean_absolute_error(y_test, gb_y_pred)\n",
    "\n",
    "print(\"Gradient Boosting Regressor Mean Squared Error:\", mse_gb)\n",
    "print(\"Gradient Boosting Regressor Mean Absolute Error:\",mae_gb)"
   ]
  },
  {
   "cell_type": "code",
   "execution_count": 28,
   "metadata": {},
   "outputs": [
    {
     "name": "stdout",
     "output_type": "stream",
     "text": [
      "\n",
      "Liner Regression Model Values: \n",
      "Mean Squared Error: 26394.24716318561\n",
      "Mean Absolute Error: 137.6327382981697\n",
      "\n"
     ]
    }
   ],
   "source": [
    "print(\n",
    "\"\"\"\n",
    "Liner Regression Model Values: \n",
    "Mean Squared Error: 26394.24716318561\n",
    "Mean Absolute Error: 137.6327382981697\n",
    "\"\"\")"
   ]
  },
  {
   "cell_type": "code",
   "execution_count": null,
   "metadata": {},
   "outputs": [],
   "source": [
    "# mse_rf = mean_squared_error(y_test, rf_y_pred)\n",
    "# r2_rf = r2_score(y_test, rf_y_pred)\n",
    "# print(\"Random Forest Regressor Mean Squared Error:\", mse_rf)\n",
    "# print(\"Random Forest Regressor R-squared score:\", r2_rf)"
   ]
  }
 ],
 "metadata": {
  "kernelspec": {
   "display_name": "Python 3",
   "language": "python",
   "name": "python3"
  },
  "language_info": {
   "codemirror_mode": {
    "name": "ipython",
    "version": 3
   },
   "file_extension": ".py",
   "mimetype": "text/x-python",
   "name": "python",
   "nbconvert_exporter": "python",
   "pygments_lexer": "ipython3",
   "version": "3.12.0"
  }
 },
 "nbformat": 4,
 "nbformat_minor": 2
}
