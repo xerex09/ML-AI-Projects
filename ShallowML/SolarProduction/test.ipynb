{
 "cells": [
  {
   "cell_type": "code",
   "execution_count": 1,
   "metadata": {},
   "outputs": [],
   "source": [
    "import pandas as pd\n"
   ]
  },
  {
   "cell_type": "code",
   "execution_count": 2,
   "metadata": {},
   "outputs": [
    {
     "name": "stderr",
     "output_type": "stream",
     "text": [
      "<>:1: SyntaxWarning: invalid escape sequence '\\H'\n",
      "<>:1: SyntaxWarning: invalid escape sequence '\\H'\n",
      "C:\\Users\\acer\\AppData\\Local\\Temp\\ipykernel_16896\\20759451.py:1: SyntaxWarning: invalid escape sequence '\\H'\n",
      "  file = \"data\\Historical Data_Site1.csv\"\n"
     ]
    }
   ],
   "source": [
    "file = \"data\\Historical Data_Site1.csv\"\n",
    "df = pd.read_csv(file)"
   ]
  },
  {
   "cell_type": "code",
   "execution_count": 3,
   "metadata": {},
   "outputs": [
    {
     "name": "stdout",
     "output_type": "stream",
     "text": [
      "<class 'pandas.core.frame.DataFrame'>\n",
      "RangeIndex: 1126 entries, 0 to 1125\n",
      "Data columns (total 8 columns):\n",
      " #   Column                    Non-Null Count  Dtype  \n",
      "---  ------                    --------------  -----  \n",
      " 0   Total Solar Generation    1126 non-null   float64\n",
      " 1   Date                      1126 non-null   object \n",
      " 2   weather_code (wmo code)   1126 non-null   int64  \n",
      " 3   temperature_2m_max (°C)   1126 non-null   float64\n",
      " 4   temperature_2m_min (°C)   1126 non-null   float64\n",
      " 5   temperature_2m_mean (°C)  1126 non-null   float64\n",
      " 6   sunshine_duration (s)     1126 non-null   float64\n",
      " 7   rain_sum (mm)             1126 non-null   float64\n",
      "dtypes: float64(6), int64(1), object(1)\n",
      "memory usage: 70.5+ KB\n"
     ]
    }
   ],
   "source": [
    "df.info()"
   ]
  },
  {
   "cell_type": "code",
   "execution_count": 4,
   "metadata": {},
   "outputs": [
    {
     "data": {
      "text/html": [
       "<div>\n",
       "<style scoped>\n",
       "    .dataframe tbody tr th:only-of-type {\n",
       "        vertical-align: middle;\n",
       "    }\n",
       "\n",
       "    .dataframe tbody tr th {\n",
       "        vertical-align: top;\n",
       "    }\n",
       "\n",
       "    .dataframe thead th {\n",
       "        text-align: right;\n",
       "    }\n",
       "</style>\n",
       "<table border=\"1\" class=\"dataframe\">\n",
       "  <thead>\n",
       "    <tr style=\"text-align: right;\">\n",
       "      <th></th>\n",
       "      <th>Total Solar Generation</th>\n",
       "      <th>Date</th>\n",
       "      <th>weather_code (wmo code)</th>\n",
       "      <th>temperature_2m_max (°C)</th>\n",
       "      <th>temperature_2m_min (°C)</th>\n",
       "      <th>temperature_2m_mean (°C)</th>\n",
       "      <th>sunshine_duration (s)</th>\n",
       "      <th>rain_sum (mm)</th>\n",
       "    </tr>\n",
       "  </thead>\n",
       "  <tbody>\n",
       "    <tr>\n",
       "      <th>0</th>\n",
       "      <td>646.573</td>\n",
       "      <td>12/1/2020</td>\n",
       "      <td>0</td>\n",
       "      <td>23.4</td>\n",
       "      <td>11.3</td>\n",
       "      <td>17.1</td>\n",
       "      <td>35001.81</td>\n",
       "      <td>0.0</td>\n",
       "    </tr>\n",
       "    <tr>\n",
       "      <th>1</th>\n",
       "      <td>655.253</td>\n",
       "      <td>12/2/2020</td>\n",
       "      <td>0</td>\n",
       "      <td>22.9</td>\n",
       "      <td>12.0</td>\n",
       "      <td>17.1</td>\n",
       "      <td>34955.89</td>\n",
       "      <td>0.0</td>\n",
       "    </tr>\n",
       "    <tr>\n",
       "      <th>2</th>\n",
       "      <td>567.440</td>\n",
       "      <td>12/3/2020</td>\n",
       "      <td>0</td>\n",
       "      <td>21.8</td>\n",
       "      <td>12.0</td>\n",
       "      <td>16.8</td>\n",
       "      <td>34911.80</td>\n",
       "      <td>0.0</td>\n",
       "    </tr>\n",
       "    <tr>\n",
       "      <th>3</th>\n",
       "      <td>565.205</td>\n",
       "      <td>12/4/2020</td>\n",
       "      <td>51</td>\n",
       "      <td>21.1</td>\n",
       "      <td>12.1</td>\n",
       "      <td>17.0</td>\n",
       "      <td>34669.88</td>\n",
       "      <td>0.1</td>\n",
       "    </tr>\n",
       "    <tr>\n",
       "      <th>4</th>\n",
       "      <td>561.015</td>\n",
       "      <td>12/5/2020</td>\n",
       "      <td>51</td>\n",
       "      <td>20.6</td>\n",
       "      <td>11.8</td>\n",
       "      <td>16.4</td>\n",
       "      <td>34829.31</td>\n",
       "      <td>0.9</td>\n",
       "    </tr>\n",
       "  </tbody>\n",
       "</table>\n",
       "</div>"
      ],
      "text/plain": [
       "   Total Solar Generation       Date  weather_code (wmo code)  \\\n",
       "0                 646.573  12/1/2020                        0   \n",
       "1                 655.253  12/2/2020                        0   \n",
       "2                 567.440  12/3/2020                        0   \n",
       "3                 565.205  12/4/2020                       51   \n",
       "4                 561.015  12/5/2020                       51   \n",
       "\n",
       "   temperature_2m_max (°C)  temperature_2m_min (°C)  temperature_2m_mean (°C)  \\\n",
       "0                     23.4                     11.3                      17.1   \n",
       "1                     22.9                     12.0                      17.1   \n",
       "2                     21.8                     12.0                      16.8   \n",
       "3                     21.1                     12.1                      17.0   \n",
       "4                     20.6                     11.8                      16.4   \n",
       "\n",
       "   sunshine_duration (s)  rain_sum (mm)  \n",
       "0               35001.81            0.0  \n",
       "1               34955.89            0.0  \n",
       "2               34911.80            0.0  \n",
       "3               34669.88            0.1  \n",
       "4               34829.31            0.9  "
      ]
     },
     "execution_count": 4,
     "metadata": {},
     "output_type": "execute_result"
    }
   ],
   "source": [
    "df.head()"
   ]
  },
  {
   "cell_type": "code",
   "execution_count": null,
   "metadata": {},
   "outputs": [],
   "source": []
  }
 ],
 "metadata": {
  "kernelspec": {
   "display_name": "timeseries",
   "language": "python",
   "name": "python3"
  },
  "language_info": {
   "codemirror_mode": {
    "name": "ipython",
    "version": 3
   },
   "file_extension": ".py",
   "mimetype": "text/x-python",
   "name": "python",
   "nbconvert_exporter": "python",
   "pygments_lexer": "ipython3",
   "version": "3.12.0"
  }
 },
 "nbformat": 4,
 "nbformat_minor": 2
}
