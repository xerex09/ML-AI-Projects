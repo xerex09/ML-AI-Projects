{
 "cells": [
  {
   "cell_type": "code",
   "execution_count": 23,
   "id": "b3bfb4c7-cd60-418e-af4d-1a5571fcd579",
   "metadata": {},
   "outputs": [
    {
     "name": "stdout",
     "output_type": "stream",
     "text": [
      "Collecting sentence_transformers\n",
      "  Using cached sentence_transformers-2.2.2-py3-none-any.whl\n",
      "Collecting transformers<5.0.0,>=4.6.0 (from sentence_transformers)\n",
      "  Obtaining dependency information for transformers<5.0.0,>=4.6.0 from https://files.pythonhosted.org/packages/12/dd/f17b11a93a9ca27728e12512d167eb1281c151c4c6881d3ab59eb58f4127/transformers-4.35.2-py3-none-any.whl.metadata\n",
      "  Downloading transformers-4.35.2-py3-none-any.whl.metadata (123 kB)\n",
      "\u001b[2K     \u001b[90m━━━━━━━━━━━━━━━━━━━━━━━━━━━━━━━━━━━━━━━\u001b[0m \u001b[32m123.5/123.5 kB\u001b[0m \u001b[31m1.8 MB/s\u001b[0m eta \u001b[36m0:00:00\u001b[0ma \u001b[36m0:00:01\u001b[0m\n",
      "\u001b[?25hRequirement already satisfied: tqdm in /Users/prajwalshrestha/miniconda3/envs/lab/lib/python3.9/site-packages (from sentence_transformers) (4.64.0)\n",
      "Collecting torch>=1.6.0 (from sentence_transformers)\n",
      "  Obtaining dependency information for torch>=1.6.0 from https://files.pythonhosted.org/packages/ee/9d/85614d94b24f751d175110753ae8a8cb10e7e533a9289bb493f2f4db8bcd/torch-2.1.1-cp39-none-macosx_11_0_arm64.whl.metadata\n",
      "  Downloading torch-2.1.1-cp39-none-macosx_11_0_arm64.whl.metadata (25 kB)\n",
      "Collecting torchvision (from sentence_transformers)\n",
      "  Obtaining dependency information for torchvision from https://files.pythonhosted.org/packages/a7/2e/5677e79d26e62f7cf0b98c3781f82cdd51dfb0bf71e7bb03ad176c5f1adc/torchvision-0.16.1-cp39-cp39-macosx_11_0_arm64.whl.metadata\n",
      "  Downloading torchvision-0.16.1-cp39-cp39-macosx_11_0_arm64.whl.metadata (6.6 kB)\n",
      "Requirement already satisfied: numpy in /Users/prajwalshrestha/miniconda3/envs/lab/lib/python3.9/site-packages (from sentence_transformers) (1.24.3)\n",
      "Requirement already satisfied: scikit-learn in /Users/prajwalshrestha/miniconda3/envs/lab/lib/python3.9/site-packages (from sentence_transformers) (1.1.3)\n",
      "Requirement already satisfied: scipy in /Users/prajwalshrestha/miniconda3/envs/lab/lib/python3.9/site-packages (from sentence_transformers) (1.9.3)\n",
      "Requirement already satisfied: nltk in /Users/prajwalshrestha/miniconda3/envs/lab/lib/python3.9/site-packages (from sentence_transformers) (3.7)\n",
      "Collecting sentencepiece (from sentence_transformers)\n",
      "  Downloading sentencepiece-0.1.99-cp39-cp39-macosx_11_0_arm64.whl (1.2 MB)\n",
      "\u001b[2K     \u001b[90m━━━━━━━━━━━━━━━━━━━━━━━━━━━━━━━━━━━━━━━━\u001b[0m \u001b[32m1.2/1.2 MB\u001b[0m \u001b[31m11.3 MB/s\u001b[0m eta \u001b[36m0:00:00\u001b[0m \u001b[36m0:00:01\u001b[0m\n",
      "\u001b[?25hCollecting huggingface-hub>=0.4.0 (from sentence_transformers)\n",
      "  Obtaining dependency information for huggingface-hub>=0.4.0 from https://files.pythonhosted.org/packages/05/09/1945ca6ba3ad8ad6e2872ba682ce8d68c5e63c8e55458ed8ab4885709f1d/huggingface_hub-0.19.4-py3-none-any.whl.metadata\n",
      "  Downloading huggingface_hub-0.19.4-py3-none-any.whl.metadata (14 kB)\n",
      "Collecting filelock (from huggingface-hub>=0.4.0->sentence_transformers)\n",
      "  Obtaining dependency information for filelock from https://files.pythonhosted.org/packages/81/54/84d42a0bee35edba99dee7b59a8d4970eccdd44b99fe728ed912106fc781/filelock-3.13.1-py3-none-any.whl.metadata\n",
      "  Using cached filelock-3.13.1-py3-none-any.whl.metadata (2.8 kB)\n",
      "Collecting fsspec>=2023.5.0 (from huggingface-hub>=0.4.0->sentence_transformers)\n",
      "  Obtaining dependency information for fsspec>=2023.5.0 from https://files.pythonhosted.org/packages/96/0e/2be9b5a2e3f736577e749bbdf27a1e7e965041e1c908d49dedf56eeb2b8a/fsspec-2023.12.1-py3-none-any.whl.metadata\n",
      "  Downloading fsspec-2023.12.1-py3-none-any.whl.metadata (6.8 kB)\n",
      "Requirement already satisfied: requests in /Users/prajwalshrestha/miniconda3/envs/lab/lib/python3.9/site-packages (from huggingface-hub>=0.4.0->sentence_transformers) (2.31.0)\n",
      "Requirement already satisfied: pyyaml>=5.1 in /Users/prajwalshrestha/miniconda3/envs/lab/lib/python3.9/site-packages (from huggingface-hub>=0.4.0->sentence_transformers) (5.4.1)\n",
      "Requirement already satisfied: typing-extensions>=3.7.4.3 in /Users/prajwalshrestha/miniconda3/envs/lab/lib/python3.9/site-packages (from huggingface-hub>=0.4.0->sentence_transformers) (4.5.0)\n",
      "Requirement already satisfied: packaging>=20.9 in /Users/prajwalshrestha/miniconda3/envs/lab/lib/python3.9/site-packages (from huggingface-hub>=0.4.0->sentence_transformers) (23.1)\n",
      "Collecting sympy (from torch>=1.6.0->sentence_transformers)\n",
      "  Using cached sympy-1.12-py3-none-any.whl (5.7 MB)\n",
      "Collecting networkx (from torch>=1.6.0->sentence_transformers)\n",
      "  Obtaining dependency information for networkx from https://files.pythonhosted.org/packages/d5/f0/8fbc882ca80cf077f1b246c0e3c3465f7f415439bdea6b899f6b19f61f70/networkx-3.2.1-py3-none-any.whl.metadata\n",
      "  Downloading networkx-3.2.1-py3-none-any.whl.metadata (5.2 kB)\n",
      "Requirement already satisfied: jinja2 in /Users/prajwalshrestha/miniconda3/envs/lab/lib/python3.9/site-packages (from torch>=1.6.0->sentence_transformers) (3.1.2)\n",
      "Requirement already satisfied: regex!=2019.12.17 in /Users/prajwalshrestha/miniconda3/envs/lab/lib/python3.9/site-packages (from transformers<5.0.0,>=4.6.0->sentence_transformers) (2022.3.15)\n",
      "Collecting tokenizers<0.19,>=0.14 (from transformers<5.0.0,>=4.6.0->sentence_transformers)\n",
      "  Obtaining dependency information for tokenizers<0.19,>=0.14 from https://files.pythonhosted.org/packages/9e/2d/35a9f9378962fd954cd097efc0d3b7beee86c12d4e61cf6199bdef58e091/tokenizers-0.15.0-cp39-cp39-macosx_11_0_arm64.whl.metadata\n",
      "  Downloading tokenizers-0.15.0-cp39-cp39-macosx_11_0_arm64.whl.metadata (6.7 kB)\n",
      "Collecting safetensors>=0.3.1 (from transformers<5.0.0,>=4.6.0->sentence_transformers)\n",
      "  Obtaining dependency information for safetensors>=0.3.1 from https://files.pythonhosted.org/packages/ea/7c/a4a49a22fc082279d36c416f0fe2d89ca558fd214ab9e9afd889dfb8180f/safetensors-0.4.1-cp39-cp39-macosx_11_0_arm64.whl.metadata\n",
      "  Downloading safetensors-0.4.1-cp39-cp39-macosx_11_0_arm64.whl.metadata (3.8 kB)\n",
      "Requirement already satisfied: click in /Users/prajwalshrestha/miniconda3/envs/lab/lib/python3.9/site-packages (from nltk->sentence_transformers) (8.0.4)\n",
      "Requirement already satisfied: joblib in /Users/prajwalshrestha/miniconda3/envs/lab/lib/python3.9/site-packages (from nltk->sentence_transformers) (1.1.0)\n",
      "Requirement already satisfied: threadpoolctl>=2.0.0 in /Users/prajwalshrestha/miniconda3/envs/lab/lib/python3.9/site-packages (from scikit-learn->sentence_transformers) (2.2.0)\n",
      "Requirement already satisfied: pillow!=8.3.*,>=5.3.0 in /Users/prajwalshrestha/miniconda3/envs/lab/lib/python3.9/site-packages (from torchvision->sentence_transformers) (10.0.0)\n",
      "Requirement already satisfied: MarkupSafe>=2.0 in /Users/prajwalshrestha/miniconda3/envs/lab/lib/python3.9/site-packages (from jinja2->torch>=1.6.0->sentence_transformers) (2.1.1)\n",
      "Requirement already satisfied: charset-normalizer<4,>=2 in /Users/prajwalshrestha/miniconda3/envs/lab/lib/python3.9/site-packages (from requests->huggingface-hub>=0.4.0->sentence_transformers) (3.2.0)\n",
      "Requirement already satisfied: idna<4,>=2.5 in /Users/prajwalshrestha/miniconda3/envs/lab/lib/python3.9/site-packages (from requests->huggingface-hub>=0.4.0->sentence_transformers) (3.4)\n",
      "Requirement already satisfied: urllib3<3,>=1.21.1 in /Users/prajwalshrestha/miniconda3/envs/lab/lib/python3.9/site-packages (from requests->huggingface-hub>=0.4.0->sentence_transformers) (1.26.16)\n",
      "Requirement already satisfied: certifi>=2017.4.17 in /Users/prajwalshrestha/miniconda3/envs/lab/lib/python3.9/site-packages (from requests->huggingface-hub>=0.4.0->sentence_transformers) (2023.7.22)\n",
      "Collecting mpmath>=0.19 (from sympy->torch>=1.6.0->sentence_transformers)\n",
      "  Using cached mpmath-1.3.0-py3-none-any.whl (536 kB)\n",
      "Downloading huggingface_hub-0.19.4-py3-none-any.whl (311 kB)\n",
      "\u001b[2K   \u001b[90m━━━━━━━━━━━━━━━━━━━━━━━━━━━━━━━━━━━━━━━━\u001b[0m \u001b[32m311.7/311.7 kB\u001b[0m \u001b[31m15.6 MB/s\u001b[0m eta \u001b[36m0:00:00\u001b[0m\n",
      "\u001b[?25hDownloading torch-2.1.1-cp39-none-macosx_11_0_arm64.whl (59.6 MB)\n",
      "\u001b[2K   \u001b[90m━━━━━━━━━━━━━━━━━━━━━━━━━━━━━━━━━━━━━━━━\u001b[0m \u001b[32m59.6/59.6 MB\u001b[0m \u001b[31m20.4 MB/s\u001b[0m eta \u001b[36m0:00:00\u001b[0m00:01\u001b[0m00:01\u001b[0m\n",
      "\u001b[?25hDownloading transformers-4.35.2-py3-none-any.whl (7.9 MB)\n",
      "\u001b[2K   \u001b[90m━━━━━━━━━━━━━━━━━━━━━━━━━━━━━━━━━━━━━━━━\u001b[0m \u001b[32m7.9/7.9 MB\u001b[0m \u001b[31m31.8 MB/s\u001b[0m eta \u001b[36m0:00:00\u001b[0m00:01\u001b[0m00:01\u001b[0m\n",
      "\u001b[?25hDownloading torchvision-0.16.1-cp39-cp39-macosx_11_0_arm64.whl (1.5 MB)\n",
      "\u001b[2K   \u001b[90m━━━━━━━━━━━━━━━━━━━━━━━━━━━━━━━━━━━━━━━━\u001b[0m \u001b[32m1.5/1.5 MB\u001b[0m \u001b[31m27.1 MB/s\u001b[0m eta \u001b[36m0:00:00\u001b[0ma \u001b[36m0:00:01\u001b[0m\n",
      "\u001b[?25hDownloading fsspec-2023.12.1-py3-none-any.whl (168 kB)\n",
      "\u001b[2K   \u001b[90m━━━━━━━━━━━━━━━━━━━━━━━━━━━━━━━━━━━━━━━━\u001b[0m \u001b[32m168.9/168.9 kB\u001b[0m \u001b[31m7.3 MB/s\u001b[0m eta \u001b[36m0:00:00\u001b[0m\n",
      "\u001b[?25hDownloading safetensors-0.4.1-cp39-cp39-macosx_11_0_arm64.whl (426 kB)\n",
      "\u001b[2K   \u001b[90m━━━━━━━━━━━━━━━━━━━━━━━━━━━━━━━━━━━━━━━━\u001b[0m \u001b[32m426.1/426.1 kB\u001b[0m \u001b[31m23.7 MB/s\u001b[0m eta \u001b[36m0:00:00\u001b[0m\n",
      "\u001b[?25hDownloading tokenizers-0.15.0-cp39-cp39-macosx_11_0_arm64.whl (2.5 MB)\n",
      "\u001b[2K   \u001b[90m━━━━━━━━━━━━━━━━━━━━━━━━━━━━━━━━━━━━━━━━\u001b[0m \u001b[32m2.5/2.5 MB\u001b[0m \u001b[31m33.5 MB/s\u001b[0m eta \u001b[36m0:00:00\u001b[0ma \u001b[36m0:00:01\u001b[0m\n",
      "\u001b[?25hUsing cached filelock-3.13.1-py3-none-any.whl (11 kB)\n",
      "Downloading networkx-3.2.1-py3-none-any.whl (1.6 MB)\n",
      "\u001b[2K   \u001b[90m━━━━━━━━━━━━━━━━━━━━━━━━━━━━━━━━━━━━━━━━\u001b[0m \u001b[32m1.6/1.6 MB\u001b[0m \u001b[31m31.5 MB/s\u001b[0m eta \u001b[36m0:00:00\u001b[0ma \u001b[36m0:00:01\u001b[0m\n",
      "\u001b[?25hInstalling collected packages: sentencepiece, mpmath, sympy, safetensors, networkx, fsspec, filelock, torch, huggingface-hub, torchvision, tokenizers, transformers, sentence_transformers\n",
      "Successfully installed filelock-3.13.1 fsspec-2023.12.1 huggingface-hub-0.19.4 mpmath-1.3.0 networkx-3.2.1 safetensors-0.4.1 sentence_transformers-2.2.2 sentencepiece-0.1.99 sympy-1.12 tokenizers-0.15.0 torch-2.1.1 torchvision-0.16.1 transformers-4.35.2\n"
     ]
    }
   ],
   "source": [
    "!pip install sentence_transformers"
   ]
  },
  {
   "cell_type": "code",
   "execution_count": 1,
   "id": "765ee036-6660-4f03-bbc8-e4aa1b64cc6c",
   "metadata": {},
   "outputs": [],
   "source": [
    "import pandas as pd\n",
    "%load_ext autoreload\n",
    "import numpy as np"
   ]
  },
  {
   "cell_type": "code",
   "execution_count": 2,
   "id": "ef8d36ed-e922-49c3-85b2-af93fb37856d",
   "metadata": {},
   "outputs": [],
   "source": [
    "news_df = pd.read_csv('./data/war-news.csv', engine='python')"
   ]
  },
  {
   "cell_type": "code",
   "execution_count": 3,
   "id": "41707d50-3be6-4d55-bb8e-05186bd7da40",
   "metadata": {},
   "outputs": [
    {
     "data": {
      "text/html": [
       "<div>\n",
       "<style scoped>\n",
       "    .dataframe tbody tr th:only-of-type {\n",
       "        vertical-align: middle;\n",
       "    }\n",
       "\n",
       "    .dataframe tbody tr th {\n",
       "        vertical-align: top;\n",
       "    }\n",
       "\n",
       "    .dataframe thead th {\n",
       "        text-align: right;\n",
       "    }\n",
       "</style>\n",
       "<table border=\"1\" class=\"dataframe\">\n",
       "  <thead>\n",
       "    <tr style=\"text-align: right;\">\n",
       "      <th></th>\n",
       "      <th>Unnamed: 0</th>\n",
       "      <th>Headlines</th>\n",
       "      <th>Summary</th>\n",
       "      <th>Press</th>\n",
       "      <th>Date</th>\n",
       "      <th>Keyword</th>\n",
       "    </tr>\n",
       "  </thead>\n",
       "  <tbody>\n",
       "    <tr>\n",
       "      <th>0</th>\n",
       "      <td>0</td>\n",
       "      <td>I served in Iraq and Afghanistan but the horro...</td>\n",
       "      <td>A WAR hero traumatised by the horrors of comba...</td>\n",
       "      <td>The Sun</td>\n",
       "      <td>1 day ago</td>\n",
       "      <td>Afghanistan</td>\n",
       "    </tr>\n",
       "    <tr>\n",
       "      <th>1</th>\n",
       "      <td>1</td>\n",
       "      <td>The forever war in Afghanistan is nowhere near...</td>\n",
       "      <td>Islamic State is seeking to overthrow the Tali...</td>\n",
       "      <td>ThePrint</td>\n",
       "      <td>2 weeks ago</td>\n",
       "      <td>Afghanistan</td>\n",
       "    </tr>\n",
       "    <tr>\n",
       "      <th>2</th>\n",
       "      <td>2</td>\n",
       "      <td>Hell at Abbey Gate: Chaos, Confusion and Death...</td>\n",
       "      <td>In firsthand accounts, Afghan civilians and U....</td>\n",
       "      <td>ProPublica</td>\n",
       "      <td>1 month ago</td>\n",
       "      <td>Afghanistan</td>\n",
       "    </tr>\n",
       "    <tr>\n",
       "      <th>3</th>\n",
       "      <td>3</td>\n",
       "      <td>‘A second Afghanistan’: Doubts over Russia’s w...</td>\n",
       "      <td>Russia's lack of progress in its war against U...</td>\n",
       "      <td>Al Jazeera</td>\n",
       "      <td>5 days ago</td>\n",
       "      <td>Afghanistan</td>\n",
       "    </tr>\n",
       "    <tr>\n",
       "      <th>4</th>\n",
       "      <td>4</td>\n",
       "      <td>Afghanistan: Former army general vows new war ...</td>\n",
       "      <td>Lt Gen Sami Sadat tells the BBC of planned ope...</td>\n",
       "      <td>BBC</td>\n",
       "      <td>1 week ago</td>\n",
       "      <td>Afghanistan</td>\n",
       "    </tr>\n",
       "    <tr>\n",
       "      <th>...</th>\n",
       "      <td>...</td>\n",
       "      <td>...</td>\n",
       "      <td>...</td>\n",
       "      <td>...</td>\n",
       "      <td>...</td>\n",
       "      <td>...</td>\n",
       "    </tr>\n",
       "    <tr>\n",
       "      <th>5649</th>\n",
       "      <td>216</td>\n",
       "      <td>We first cut rations in half. Now, we'll take ...</td>\n",
       "      <td>We first cut rations in half. Now, we'll take ...</td>\n",
       "      <td>USA Today</td>\n",
       "      <td>1 month ago</td>\n",
       "      <td>Yemen</td>\n",
       "    </tr>\n",
       "    <tr>\n",
       "      <th>5650</th>\n",
       "      <td>217</td>\n",
       "      <td>Yemen war: Two foreign Doctors Without Borders...</td>\n",
       "      <td>The conflict began in 2014 after Houthi rebels...</td>\n",
       "      <td>Middle East Eye</td>\n",
       "      <td>6 Mar 2022</td>\n",
       "      <td>Yemen</td>\n",
       "    </tr>\n",
       "    <tr>\n",
       "      <th>5651</th>\n",
       "      <td>218</td>\n",
       "      <td>Devastated by war, Yemen's still surviving oil...</td>\n",
       "      <td>Yemen's oil and gas industry could be at a cro...</td>\n",
       "      <td>S&amp;P Global</td>\n",
       "      <td>12 Aug 2021</td>\n",
       "      <td>Yemen</td>\n",
       "    </tr>\n",
       "    <tr>\n",
       "      <th>5652</th>\n",
       "      <td>219</td>\n",
       "      <td>Deconstructed: Gas Price Politics And Genocide...</td>\n",
       "      <td>Since we last covered the war in Yemen on this...</td>\n",
       "      <td>The Intercept</td>\n",
       "      <td>11 Feb 2022</td>\n",
       "      <td>Yemen</td>\n",
       "    </tr>\n",
       "    <tr>\n",
       "      <th>5653</th>\n",
       "      <td>\u001a</td>\n",
       "      <td>None</td>\n",
       "      <td>None</td>\n",
       "      <td>None</td>\n",
       "      <td>None</td>\n",
       "      <td>None</td>\n",
       "    </tr>\n",
       "  </tbody>\n",
       "</table>\n",
       "<p>5654 rows × 6 columns</p>\n",
       "</div>"
      ],
      "text/plain": [
       "     Unnamed: 0                                          Headlines  \\\n",
       "0             0  I served in Iraq and Afghanistan but the horro...   \n",
       "1             1  The forever war in Afghanistan is nowhere near...   \n",
       "2             2  Hell at Abbey Gate: Chaos, Confusion and Death...   \n",
       "3             3  ‘A second Afghanistan’: Doubts over Russia’s w...   \n",
       "4             4  Afghanistan: Former army general vows new war ...   \n",
       "...         ...                                                ...   \n",
       "5649        216  We first cut rations in half. Now, we'll take ...   \n",
       "5650        217  Yemen war: Two foreign Doctors Without Borders...   \n",
       "5651        218  Devastated by war, Yemen's still surviving oil...   \n",
       "5652        219  Deconstructed: Gas Price Politics And Genocide...   \n",
       "5653          \u001a                                               None   \n",
       "\n",
       "                                                Summary            Press  \\\n",
       "0     A WAR hero traumatised by the horrors of comba...          The Sun   \n",
       "1     Islamic State is seeking to overthrow the Tali...         ThePrint   \n",
       "2     In firsthand accounts, Afghan civilians and U....       ProPublica   \n",
       "3     Russia's lack of progress in its war against U...       Al Jazeera   \n",
       "4     Lt Gen Sami Sadat tells the BBC of planned ope...              BBC   \n",
       "...                                                 ...              ...   \n",
       "5649  We first cut rations in half. Now, we'll take ...        USA Today   \n",
       "5650  The conflict began in 2014 after Houthi rebels...  Middle East Eye   \n",
       "5651  Yemen's oil and gas industry could be at a cro...       S&P Global   \n",
       "5652  Since we last covered the war in Yemen on this...    The Intercept   \n",
       "5653                                               None             None   \n",
       "\n",
       "             Date      Keyword  \n",
       "0       1 day ago  Afghanistan  \n",
       "1     2 weeks ago  Afghanistan  \n",
       "2     1 month ago  Afghanistan  \n",
       "3      5 days ago  Afghanistan  \n",
       "4      1 week ago  Afghanistan  \n",
       "...           ...          ...  \n",
       "5649  1 month ago        Yemen  \n",
       "5650   6 Mar 2022        Yemen  \n",
       "5651  12 Aug 2021        Yemen  \n",
       "5652  11 Feb 2022        Yemen  \n",
       "5653         None         None  \n",
       "\n",
       "[5654 rows x 6 columns]"
      ]
     },
     "execution_count": 3,
     "metadata": {},
     "output_type": "execute_result"
    }
   ],
   "source": [
    "news_df"
   ]
  },
  {
   "cell_type": "markdown",
   "id": "f545cf96-51aa-454e-8428-f2f4d2ed31ba",
   "metadata": {},
   "source": [
    "# Exploratory Data Analysis"
   ]
  },
  {
   "cell_type": "markdown",
   "id": "63e1ed75-9ac7-45fa-bd33-97a12c327b60",
   "metadata": {},
   "source": [
    "### Removing the unnamed columns"
   ]
  },
  {
   "cell_type": "code",
   "execution_count": 4,
   "id": "389fd5e6-340c-4313-852e-bda080eb0b30",
   "metadata": {},
   "outputs": [],
   "source": [
    "news_df = news_df.loc[:, ~news_df.columns.str.contains('^Unnamed')]"
   ]
  },
  {
   "cell_type": "code",
   "execution_count": 5,
   "id": "28f739ce-8182-4c58-b60a-cfdf3b248814",
   "metadata": {},
   "outputs": [
    {
     "data": {
      "text/html": [
       "<div>\n",
       "<style scoped>\n",
       "    .dataframe tbody tr th:only-of-type {\n",
       "        vertical-align: middle;\n",
       "    }\n",
       "\n",
       "    .dataframe tbody tr th {\n",
       "        vertical-align: top;\n",
       "    }\n",
       "\n",
       "    .dataframe thead th {\n",
       "        text-align: right;\n",
       "    }\n",
       "</style>\n",
       "<table border=\"1\" class=\"dataframe\">\n",
       "  <thead>\n",
       "    <tr style=\"text-align: right;\">\n",
       "      <th></th>\n",
       "      <th>Headlines</th>\n",
       "      <th>Summary</th>\n",
       "      <th>Press</th>\n",
       "      <th>Date</th>\n",
       "      <th>Keyword</th>\n",
       "    </tr>\n",
       "  </thead>\n",
       "  <tbody>\n",
       "    <tr>\n",
       "      <th>0</th>\n",
       "      <td>I served in Iraq and Afghanistan but the horro...</td>\n",
       "      <td>A WAR hero traumatised by the horrors of comba...</td>\n",
       "      <td>The Sun</td>\n",
       "      <td>1 day ago</td>\n",
       "      <td>Afghanistan</td>\n",
       "    </tr>\n",
       "    <tr>\n",
       "      <th>1</th>\n",
       "      <td>The forever war in Afghanistan is nowhere near...</td>\n",
       "      <td>Islamic State is seeking to overthrow the Tali...</td>\n",
       "      <td>ThePrint</td>\n",
       "      <td>2 weeks ago</td>\n",
       "      <td>Afghanistan</td>\n",
       "    </tr>\n",
       "    <tr>\n",
       "      <th>2</th>\n",
       "      <td>Hell at Abbey Gate: Chaos, Confusion and Death...</td>\n",
       "      <td>In firsthand accounts, Afghan civilians and U....</td>\n",
       "      <td>ProPublica</td>\n",
       "      <td>1 month ago</td>\n",
       "      <td>Afghanistan</td>\n",
       "    </tr>\n",
       "    <tr>\n",
       "      <th>3</th>\n",
       "      <td>‘A second Afghanistan’: Doubts over Russia’s w...</td>\n",
       "      <td>Russia's lack of progress in its war against U...</td>\n",
       "      <td>Al Jazeera</td>\n",
       "      <td>5 days ago</td>\n",
       "      <td>Afghanistan</td>\n",
       "    </tr>\n",
       "    <tr>\n",
       "      <th>4</th>\n",
       "      <td>Afghanistan: Former army general vows new war ...</td>\n",
       "      <td>Lt Gen Sami Sadat tells the BBC of planned ope...</td>\n",
       "      <td>BBC</td>\n",
       "      <td>1 week ago</td>\n",
       "      <td>Afghanistan</td>\n",
       "    </tr>\n",
       "  </tbody>\n",
       "</table>\n",
       "</div>"
      ],
      "text/plain": [
       "                                           Headlines  \\\n",
       "0  I served in Iraq and Afghanistan but the horro...   \n",
       "1  The forever war in Afghanistan is nowhere near...   \n",
       "2  Hell at Abbey Gate: Chaos, Confusion and Death...   \n",
       "3  ‘A second Afghanistan’: Doubts over Russia’s w...   \n",
       "4  Afghanistan: Former army general vows new war ...   \n",
       "\n",
       "                                             Summary       Press         Date  \\\n",
       "0  A WAR hero traumatised by the horrors of comba...     The Sun    1 day ago   \n",
       "1  Islamic State is seeking to overthrow the Tali...    ThePrint  2 weeks ago   \n",
       "2  In firsthand accounts, Afghan civilians and U....  ProPublica  1 month ago   \n",
       "3  Russia's lack of progress in its war against U...  Al Jazeera   5 days ago   \n",
       "4  Lt Gen Sami Sadat tells the BBC of planned ope...         BBC   1 week ago   \n",
       "\n",
       "       Keyword  \n",
       "0  Afghanistan  \n",
       "1  Afghanistan  \n",
       "2  Afghanistan  \n",
       "3  Afghanistan  \n",
       "4  Afghanistan  "
      ]
     },
     "execution_count": 5,
     "metadata": {},
     "output_type": "execute_result"
    }
   ],
   "source": [
    "news_df.head()"
   ]
  },
  {
   "cell_type": "code",
   "execution_count": 6,
   "id": "bb4970b3-faed-481f-ae77-c28e685a5aa5",
   "metadata": {},
   "outputs": [
    {
     "data": {
      "text/html": [
       "<div>\n",
       "<style scoped>\n",
       "    .dataframe tbody tr th:only-of-type {\n",
       "        vertical-align: middle;\n",
       "    }\n",
       "\n",
       "    .dataframe tbody tr th {\n",
       "        vertical-align: top;\n",
       "    }\n",
       "\n",
       "    .dataframe thead th {\n",
       "        text-align: right;\n",
       "    }\n",
       "</style>\n",
       "<table border=\"1\" class=\"dataframe\">\n",
       "  <thead>\n",
       "    <tr style=\"text-align: right;\">\n",
       "      <th></th>\n",
       "      <th>Headlines</th>\n",
       "      <th>Summary</th>\n",
       "      <th>Press</th>\n",
       "      <th>Date</th>\n",
       "      <th>Keyword</th>\n",
       "    </tr>\n",
       "  </thead>\n",
       "  <tbody>\n",
       "    <tr>\n",
       "      <th>5225</th>\n",
       "      <td>How refugee stories reveal the true toll of wa...</td>\n",
       "      <td>A refugee from the Vietnam War, Nguyen calls h...</td>\n",
       "      <td>NPR</td>\n",
       "      <td>1 month ago</td>\n",
       "      <td>Vietnam</td>\n",
       "    </tr>\n",
       "  </tbody>\n",
       "</table>\n",
       "</div>"
      ],
      "text/plain": [
       "                                              Headlines  \\\n",
       "5225  How refugee stories reveal the true toll of wa...   \n",
       "\n",
       "                                                Summary Press         Date  \\\n",
       "5225  A refugee from the Vietnam War, Nguyen calls h...   NPR  1 month ago   \n",
       "\n",
       "      Keyword  \n",
       "5225  Vietnam  "
      ]
     },
     "execution_count": 6,
     "metadata": {},
     "output_type": "execute_result"
    }
   ],
   "source": [
    "news_df.sample()"
   ]
  },
  {
   "cell_type": "code",
   "execution_count": 7,
   "id": "89499c50-7acf-4656-9e4d-1f67a580f41a",
   "metadata": {},
   "outputs": [
    {
     "data": {
      "text/plain": [
       "Headlines    object\n",
       "Summary      object\n",
       "Press        object\n",
       "Date         object\n",
       "Keyword      object\n",
       "dtype: object"
      ]
     },
     "execution_count": 7,
     "metadata": {},
     "output_type": "execute_result"
    }
   ],
   "source": [
    "news_df.dtypes"
   ]
  },
  {
   "cell_type": "code",
   "execution_count": 48,
   "id": "7d1ddc24-44b1-4d16-9e7a-95b4758da6ac",
   "metadata": {},
   "outputs": [
    {
     "data": {
      "text/plain": [
       "count    5654.000000\n",
       "mean       60.556420\n",
       "std        16.249195\n",
       "min         0.000000\n",
       "25%        53.000000\n",
       "50%        60.000000\n",
       "75%        66.000000\n",
       "max       149.000000\n",
       "Name: Headlines, dtype: float64"
      ]
     },
     "execution_count": 48,
     "metadata": {},
     "output_type": "execute_result"
    }
   ],
   "source": [
    "news_df.Headlines.apply(lambda x: len(x) if x is not None else 0).describe()"
   ]
  },
  {
   "cell_type": "code",
   "execution_count": 8,
   "id": "da0310cc-ee8c-40d6-b1bf-543c0f7a9d80",
   "metadata": {},
   "outputs": [
    {
     "name": "stdout",
     "output_type": "stream",
     "text": [
      "      Headlines  Summary  Press   Date  Keyword\n",
      "0         False    False  False  False    False\n",
      "1         False    False  False  False    False\n",
      "2         False    False  False  False    False\n",
      "3         False    False  False  False    False\n",
      "4         False    False  False  False    False\n",
      "...         ...      ...    ...    ...      ...\n",
      "5649      False    False  False  False    False\n",
      "5650      False    False  False  False    False\n",
      "5651      False    False  False  False    False\n",
      "5652      False    False  False  False    False\n",
      "5653       True     True   True   True     True\n",
      "\n",
      "[5654 rows x 5 columns]\n"
     ]
    }
   ],
   "source": [
    "print(news_df.isnull())"
   ]
  },
  {
   "cell_type": "code",
   "execution_count": 9,
   "id": "f050d9f3-baf5-4dd1-ab73-fadf44095273",
   "metadata": {},
   "outputs": [
    {
     "data": {
      "text/html": [
       "<div>\n",
       "<style scoped>\n",
       "    .dataframe tbody tr th:only-of-type {\n",
       "        vertical-align: middle;\n",
       "    }\n",
       "\n",
       "    .dataframe tbody tr th {\n",
       "        vertical-align: top;\n",
       "    }\n",
       "\n",
       "    .dataframe thead th {\n",
       "        text-align: right;\n",
       "    }\n",
       "</style>\n",
       "<table border=\"1\" class=\"dataframe\">\n",
       "  <thead>\n",
       "    <tr style=\"text-align: right;\">\n",
       "      <th></th>\n",
       "      <th>Headlines</th>\n",
       "      <th>Summary</th>\n",
       "      <th>Press</th>\n",
       "      <th>Date</th>\n",
       "      <th>Keyword</th>\n",
       "    </tr>\n",
       "  </thead>\n",
       "  <tbody>\n",
       "    <tr>\n",
       "      <th>0</th>\n",
       "      <td>I served in Iraq and Afghanistan but the horro...</td>\n",
       "      <td>A WAR hero traumatised by the horrors of comba...</td>\n",
       "      <td>The Sun</td>\n",
       "      <td>1 day ago</td>\n",
       "      <td>Afghanistan</td>\n",
       "    </tr>\n",
       "    <tr>\n",
       "      <th>1</th>\n",
       "      <td>The forever war in Afghanistan is nowhere near...</td>\n",
       "      <td>Islamic State is seeking to overthrow the Tali...</td>\n",
       "      <td>ThePrint</td>\n",
       "      <td>2 weeks ago</td>\n",
       "      <td>Afghanistan</td>\n",
       "    </tr>\n",
       "    <tr>\n",
       "      <th>2</th>\n",
       "      <td>Hell at Abbey Gate: Chaos, Confusion and Death...</td>\n",
       "      <td>In firsthand accounts, Afghan civilians and U....</td>\n",
       "      <td>ProPublica</td>\n",
       "      <td>1 month ago</td>\n",
       "      <td>Afghanistan</td>\n",
       "    </tr>\n",
       "    <tr>\n",
       "      <th>3</th>\n",
       "      <td>‘A second Afghanistan’: Doubts over Russia’s w...</td>\n",
       "      <td>Russia's lack of progress in its war against U...</td>\n",
       "      <td>Al Jazeera</td>\n",
       "      <td>5 days ago</td>\n",
       "      <td>Afghanistan</td>\n",
       "    </tr>\n",
       "    <tr>\n",
       "      <th>4</th>\n",
       "      <td>Afghanistan: Former army general vows new war ...</td>\n",
       "      <td>Lt Gen Sami Sadat tells the BBC of planned ope...</td>\n",
       "      <td>BBC</td>\n",
       "      <td>1 week ago</td>\n",
       "      <td>Afghanistan</td>\n",
       "    </tr>\n",
       "    <tr>\n",
       "      <th>...</th>\n",
       "      <td>...</td>\n",
       "      <td>...</td>\n",
       "      <td>...</td>\n",
       "      <td>...</td>\n",
       "      <td>...</td>\n",
       "    </tr>\n",
       "    <tr>\n",
       "      <th>5649</th>\n",
       "      <td>We first cut rations in half. Now, we'll take ...</td>\n",
       "      <td>We first cut rations in half. Now, we'll take ...</td>\n",
       "      <td>USA Today</td>\n",
       "      <td>1 month ago</td>\n",
       "      <td>Yemen</td>\n",
       "    </tr>\n",
       "    <tr>\n",
       "      <th>5650</th>\n",
       "      <td>Yemen war: Two foreign Doctors Without Borders...</td>\n",
       "      <td>The conflict began in 2014 after Houthi rebels...</td>\n",
       "      <td>Middle East Eye</td>\n",
       "      <td>6 Mar 2022</td>\n",
       "      <td>Yemen</td>\n",
       "    </tr>\n",
       "    <tr>\n",
       "      <th>5651</th>\n",
       "      <td>Devastated by war, Yemen's still surviving oil...</td>\n",
       "      <td>Yemen's oil and gas industry could be at a cro...</td>\n",
       "      <td>S&amp;P Global</td>\n",
       "      <td>12 Aug 2021</td>\n",
       "      <td>Yemen</td>\n",
       "    </tr>\n",
       "    <tr>\n",
       "      <th>5652</th>\n",
       "      <td>Deconstructed: Gas Price Politics And Genocide...</td>\n",
       "      <td>Since we last covered the war in Yemen on this...</td>\n",
       "      <td>The Intercept</td>\n",
       "      <td>11 Feb 2022</td>\n",
       "      <td>Yemen</td>\n",
       "    </tr>\n",
       "    <tr>\n",
       "      <th>5653</th>\n",
       "      <td>None</td>\n",
       "      <td>None</td>\n",
       "      <td>None</td>\n",
       "      <td>None</td>\n",
       "      <td>None</td>\n",
       "    </tr>\n",
       "  </tbody>\n",
       "</table>\n",
       "<p>5654 rows × 5 columns</p>\n",
       "</div>"
      ],
      "text/plain": [
       "                                              Headlines  \\\n",
       "0     I served in Iraq and Afghanistan but the horro...   \n",
       "1     The forever war in Afghanistan is nowhere near...   \n",
       "2     Hell at Abbey Gate: Chaos, Confusion and Death...   \n",
       "3     ‘A second Afghanistan’: Doubts over Russia’s w...   \n",
       "4     Afghanistan: Former army general vows new war ...   \n",
       "...                                                 ...   \n",
       "5649  We first cut rations in half. Now, we'll take ...   \n",
       "5650  Yemen war: Two foreign Doctors Without Borders...   \n",
       "5651  Devastated by war, Yemen's still surviving oil...   \n",
       "5652  Deconstructed: Gas Price Politics And Genocide...   \n",
       "5653                                               None   \n",
       "\n",
       "                                                Summary            Press  \\\n",
       "0     A WAR hero traumatised by the horrors of comba...          The Sun   \n",
       "1     Islamic State is seeking to overthrow the Tali...         ThePrint   \n",
       "2     In firsthand accounts, Afghan civilians and U....       ProPublica   \n",
       "3     Russia's lack of progress in its war against U...       Al Jazeera   \n",
       "4     Lt Gen Sami Sadat tells the BBC of planned ope...              BBC   \n",
       "...                                                 ...              ...   \n",
       "5649  We first cut rations in half. Now, we'll take ...        USA Today   \n",
       "5650  The conflict began in 2014 after Houthi rebels...  Middle East Eye   \n",
       "5651  Yemen's oil and gas industry could be at a cro...       S&P Global   \n",
       "5652  Since we last covered the war in Yemen on this...    The Intercept   \n",
       "5653                                               None             None   \n",
       "\n",
       "             Date      Keyword  \n",
       "0       1 day ago  Afghanistan  \n",
       "1     2 weeks ago  Afghanistan  \n",
       "2     1 month ago  Afghanistan  \n",
       "3      5 days ago  Afghanistan  \n",
       "4      1 week ago  Afghanistan  \n",
       "...           ...          ...  \n",
       "5649  1 month ago        Yemen  \n",
       "5650   6 Mar 2022        Yemen  \n",
       "5651  12 Aug 2021        Yemen  \n",
       "5652  11 Feb 2022        Yemen  \n",
       "5653         None         None  \n",
       "\n",
       "[5654 rows x 5 columns]"
      ]
     },
     "execution_count": 9,
     "metadata": {},
     "output_type": "execute_result"
    }
   ],
   "source": [
    "news_df_filtered = news_df[(news_df['Headlines'] != '') & (news_df['Summary'] != '')]\n",
    "news_df_filtered"
   ]
  },
  {
   "cell_type": "code",
   "execution_count": 10,
   "id": "8ae31ae2-53e6-4d9c-8219-bb67cc7429fd",
   "metadata": {},
   "outputs": [],
   "source": [
    "news_df_filtered.dropna(inplace = True)"
   ]
  },
  {
   "cell_type": "code",
   "execution_count": 11,
   "id": "d7a67278-c5d1-425c-8e76-eadd23c440dc",
   "metadata": {},
   "outputs": [
    {
     "data": {
      "text/html": [
       "<div>\n",
       "<style scoped>\n",
       "    .dataframe tbody tr th:only-of-type {\n",
       "        vertical-align: middle;\n",
       "    }\n",
       "\n",
       "    .dataframe tbody tr th {\n",
       "        vertical-align: top;\n",
       "    }\n",
       "\n",
       "    .dataframe thead th {\n",
       "        text-align: right;\n",
       "    }\n",
       "</style>\n",
       "<table border=\"1\" class=\"dataframe\">\n",
       "  <thead>\n",
       "    <tr style=\"text-align: right;\">\n",
       "      <th></th>\n",
       "      <th>Headlines</th>\n",
       "      <th>Summary</th>\n",
       "      <th>Press</th>\n",
       "      <th>Date</th>\n",
       "      <th>Keyword</th>\n",
       "    </tr>\n",
       "  </thead>\n",
       "  <tbody>\n",
       "    <tr>\n",
       "      <th>0</th>\n",
       "      <td>I served in Iraq and Afghanistan but the horro...</td>\n",
       "      <td>A WAR hero traumatised by the horrors of comba...</td>\n",
       "      <td>The Sun</td>\n",
       "      <td>1 day ago</td>\n",
       "      <td>Afghanistan</td>\n",
       "    </tr>\n",
       "    <tr>\n",
       "      <th>1</th>\n",
       "      <td>The forever war in Afghanistan is nowhere near...</td>\n",
       "      <td>Islamic State is seeking to overthrow the Tali...</td>\n",
       "      <td>ThePrint</td>\n",
       "      <td>2 weeks ago</td>\n",
       "      <td>Afghanistan</td>\n",
       "    </tr>\n",
       "    <tr>\n",
       "      <th>2</th>\n",
       "      <td>Hell at Abbey Gate: Chaos, Confusion and Death...</td>\n",
       "      <td>In firsthand accounts, Afghan civilians and U....</td>\n",
       "      <td>ProPublica</td>\n",
       "      <td>1 month ago</td>\n",
       "      <td>Afghanistan</td>\n",
       "    </tr>\n",
       "    <tr>\n",
       "      <th>3</th>\n",
       "      <td>‘A second Afghanistan’: Doubts over Russia’s w...</td>\n",
       "      <td>Russia's lack of progress in its war against U...</td>\n",
       "      <td>Al Jazeera</td>\n",
       "      <td>5 days ago</td>\n",
       "      <td>Afghanistan</td>\n",
       "    </tr>\n",
       "    <tr>\n",
       "      <th>4</th>\n",
       "      <td>Afghanistan: Former army general vows new war ...</td>\n",
       "      <td>Lt Gen Sami Sadat tells the BBC of planned ope...</td>\n",
       "      <td>BBC</td>\n",
       "      <td>1 week ago</td>\n",
       "      <td>Afghanistan</td>\n",
       "    </tr>\n",
       "    <tr>\n",
       "      <th>...</th>\n",
       "      <td>...</td>\n",
       "      <td>...</td>\n",
       "      <td>...</td>\n",
       "      <td>...</td>\n",
       "      <td>...</td>\n",
       "    </tr>\n",
       "    <tr>\n",
       "      <th>5648</th>\n",
       "      <td>The Shattering of Yemen</td>\n",
       "      <td>U.S. President Joe Biden has made ending Yemen...</td>\n",
       "      <td>Foreign Affairs</td>\n",
       "      <td>19 Aug 2021</td>\n",
       "      <td>Yemen</td>\n",
       "    </tr>\n",
       "    <tr>\n",
       "      <th>5649</th>\n",
       "      <td>We first cut rations in half. Now, we'll take ...</td>\n",
       "      <td>We first cut rations in half. Now, we'll take ...</td>\n",
       "      <td>USA Today</td>\n",
       "      <td>1 month ago</td>\n",
       "      <td>Yemen</td>\n",
       "    </tr>\n",
       "    <tr>\n",
       "      <th>5650</th>\n",
       "      <td>Yemen war: Two foreign Doctors Without Borders...</td>\n",
       "      <td>The conflict began in 2014 after Houthi rebels...</td>\n",
       "      <td>Middle East Eye</td>\n",
       "      <td>6 Mar 2022</td>\n",
       "      <td>Yemen</td>\n",
       "    </tr>\n",
       "    <tr>\n",
       "      <th>5651</th>\n",
       "      <td>Devastated by war, Yemen's still surviving oil...</td>\n",
       "      <td>Yemen's oil and gas industry could be at a cro...</td>\n",
       "      <td>S&amp;P Global</td>\n",
       "      <td>12 Aug 2021</td>\n",
       "      <td>Yemen</td>\n",
       "    </tr>\n",
       "    <tr>\n",
       "      <th>5652</th>\n",
       "      <td>Deconstructed: Gas Price Politics And Genocide...</td>\n",
       "      <td>Since we last covered the war in Yemen on this...</td>\n",
       "      <td>The Intercept</td>\n",
       "      <td>11 Feb 2022</td>\n",
       "      <td>Yemen</td>\n",
       "    </tr>\n",
       "  </tbody>\n",
       "</table>\n",
       "<p>5653 rows × 5 columns</p>\n",
       "</div>"
      ],
      "text/plain": [
       "                                              Headlines  \\\n",
       "0     I served in Iraq and Afghanistan but the horro...   \n",
       "1     The forever war in Afghanistan is nowhere near...   \n",
       "2     Hell at Abbey Gate: Chaos, Confusion and Death...   \n",
       "3     ‘A second Afghanistan’: Doubts over Russia’s w...   \n",
       "4     Afghanistan: Former army general vows new war ...   \n",
       "...                                                 ...   \n",
       "5648                            The Shattering of Yemen   \n",
       "5649  We first cut rations in half. Now, we'll take ...   \n",
       "5650  Yemen war: Two foreign Doctors Without Borders...   \n",
       "5651  Devastated by war, Yemen's still surviving oil...   \n",
       "5652  Deconstructed: Gas Price Politics And Genocide...   \n",
       "\n",
       "                                                Summary            Press  \\\n",
       "0     A WAR hero traumatised by the horrors of comba...          The Sun   \n",
       "1     Islamic State is seeking to overthrow the Tali...         ThePrint   \n",
       "2     In firsthand accounts, Afghan civilians and U....       ProPublica   \n",
       "3     Russia's lack of progress in its war against U...       Al Jazeera   \n",
       "4     Lt Gen Sami Sadat tells the BBC of planned ope...              BBC   \n",
       "...                                                 ...              ...   \n",
       "5648  U.S. President Joe Biden has made ending Yemen...  Foreign Affairs   \n",
       "5649  We first cut rations in half. Now, we'll take ...        USA Today   \n",
       "5650  The conflict began in 2014 after Houthi rebels...  Middle East Eye   \n",
       "5651  Yemen's oil and gas industry could be at a cro...       S&P Global   \n",
       "5652  Since we last covered the war in Yemen on this...    The Intercept   \n",
       "\n",
       "             Date      Keyword  \n",
       "0       1 day ago  Afghanistan  \n",
       "1     2 weeks ago  Afghanistan  \n",
       "2     1 month ago  Afghanistan  \n",
       "3      5 days ago  Afghanistan  \n",
       "4      1 week ago  Afghanistan  \n",
       "...           ...          ...  \n",
       "5648  19 Aug 2021        Yemen  \n",
       "5649  1 month ago        Yemen  \n",
       "5650   6 Mar 2022        Yemen  \n",
       "5651  12 Aug 2021        Yemen  \n",
       "5652  11 Feb 2022        Yemen  \n",
       "\n",
       "[5653 rows x 5 columns]"
      ]
     },
     "execution_count": 11,
     "metadata": {},
     "output_type": "execute_result"
    }
   ],
   "source": [
    "news_df_filtered"
   ]
  },
  {
   "cell_type": "code",
   "execution_count": 41,
   "id": "481c330a-a7f8-438d-a32a-afe1b9d1fe53",
   "metadata": {},
   "outputs": [
    {
     "data": {
      "text/plain": [
       "count    5653.000000\n",
       "mean       60.567132\n",
       "std        16.230654\n",
       "min         5.000000\n",
       "25%        53.000000\n",
       "50%        60.000000\n",
       "75%        66.000000\n",
       "max       149.000000\n",
       "Name: Headlines, dtype: float64"
      ]
     },
     "execution_count": 41,
     "metadata": {},
     "output_type": "execute_result"
    }
   ],
   "source": [
    "news_df_filtered.Headlines.apply(lambda x: len(x) if x is not None else 0).describe()"
   ]
  },
  {
   "cell_type": "code",
   "execution_count": 42,
   "id": "6b8b384c-ca2c-421f-a875-cc9c2aaf7727",
   "metadata": {},
   "outputs": [
    {
     "data": {
      "text/plain": [
       "count    5653.000000\n",
       "mean      140.290819\n",
       "std        11.609855\n",
       "min         7.000000\n",
       "25%       139.000000\n",
       "50%       142.000000\n",
       "75%       144.000000\n",
       "max       167.000000\n",
       "Name: Summary, dtype: float64"
      ]
     },
     "execution_count": 42,
     "metadata": {},
     "output_type": "execute_result"
    }
   ],
   "source": [
    "news_df_filtered.Summary.apply(lambda x: len(x) if x is not None else 0).describe()"
   ]
  },
  {
   "cell_type": "code",
   "execution_count": 43,
   "id": "f921502d-a71a-4437-b195-7ae69d5b72ad",
   "metadata": {},
   "outputs": [],
   "source": [
    "feature = news_df_filtered.Headlines + news_df_filtered.Summary"
   ]
  },
  {
   "cell_type": "code",
   "execution_count": 15,
   "id": "181198b2-885d-4fa2-95b6-effae7f61a89",
   "metadata": {},
   "outputs": [
    {
     "data": {
      "text/plain": [
       "0       I served in Iraq and Afghanistan but the horro...\n",
       "1       The forever war in Afghanistan is nowhere near...\n",
       "2       Hell at Abbey Gate: Chaos, Confusion and Death...\n",
       "3       ‘A second Afghanistan’: Doubts over Russia’s w...\n",
       "4       Afghanistan: Former army general vows new war ...\n",
       "                              ...                        \n",
       "5649    We first cut rations in half. Now, we'll take ...\n",
       "5650    Yemen war: Two foreign Doctors Without Borders...\n",
       "5651    Devastated by war, Yemen's still surviving oil...\n",
       "5652    Deconstructed: Gas Price Politics And Genocide...\n",
       "5653                                                  NaN\n",
       "Length: 5654, dtype: object"
      ]
     },
     "execution_count": 15,
     "metadata": {},
     "output_type": "execute_result"
    }
   ],
   "source": [
    "feature"
   ]
  },
  {
   "cell_type": "code",
   "execution_count": 44,
   "id": "b0c22afb-5dd4-49b3-9b1c-2711ebddfc6c",
   "metadata": {},
   "outputs": [
    {
     "data": {
      "text/plain": [
       "0    I served in Iraq and Afghanistan but the horro...\n",
       "1    The forever war in Afghanistan is nowhere near...\n",
       "2    Hell at Abbey Gate: Chaos, Confusion and Death...\n",
       "3    ‘A second Afghanistan’: Doubts over Russia’s w...\n",
       "4    Afghanistan: Former army general vows new war ...\n",
       "dtype: object"
      ]
     },
     "execution_count": 44,
     "metadata": {},
     "output_type": "execute_result"
    }
   ],
   "source": [
    "feature.head()"
   ]
  },
  {
   "cell_type": "code",
   "execution_count": 45,
   "id": "06dc4532-6891-4e98-bcad-3884bf157684",
   "metadata": {},
   "outputs": [
    {
     "name": "stderr",
     "output_type": "stream",
     "text": [
      "Batches: 100%|████████████████████████████████████████████████████████████████████████████████████████████████████████████████████████████████████████████████| 57/57 [00:31<00:00,  1.78it/s]\n"
     ]
    }
   ],
   "source": [
    "from sentence_transformers import SentenceTransformer\n",
    "model = SentenceTransformer('paraphrase-multilingual-MiniLM-L12-v2') # use multilingual models for texts with non-english characters\n",
    "\n",
    "embeddings = model.encode(feature, show_progress_bar=True, batch_size=100)"
   ]
  },
  {
   "cell_type": "code",
   "execution_count": 46,
   "id": "6e14de97-4eaf-461c-9594-43810d9b6a45",
   "metadata": {},
   "outputs": [
    {
     "data": {
      "text/plain": [
       "array([[ 0.06312142,  0.2201719 , -0.08592805, ..., -0.47542074,\n",
       "        -0.08063364, -0.3457433 ],\n",
       "       [-0.11413972,  0.22812489,  0.07895491, ..., -0.32987732,\n",
       "         0.1889345 , -0.07485486],\n",
       "       [ 0.07695305, -0.04635577, -0.05303844, ...,  0.03529381,\n",
       "        -0.16161337, -0.20239653],\n",
       "       ...,\n",
       "       [-0.33954358,  0.3634299 , -0.09503815, ...,  0.08140877,\n",
       "        -0.02458111, -0.11791256],\n",
       "       [-0.20565271,  0.0162073 ,  0.31460762, ..., -0.10736073,\n",
       "         0.19337608, -0.2619659 ],\n",
       "       [-0.2740672 ,  0.21257839,  0.06779844, ..., -0.00420717,\n",
       "        -0.25486255, -0.25594237]], dtype=float32)"
      ]
     },
     "execution_count": 46,
     "metadata": {},
     "output_type": "execute_result"
    }
   ],
   "source": [
    "embeddings"
   ]
  },
  {
   "cell_type": "code",
   "execution_count": 47,
   "id": "abfe8694-4349-4d9c-b38d-b15fc71b4c9a",
   "metadata": {},
   "outputs": [],
   "source": [
    "embeddings_list = embeddings.tolist()"
   ]
  },
  {
   "cell_type": "code",
   "execution_count": 48,
   "id": "4d850f38-1c2a-4407-b88b-460610069f11",
   "metadata": {},
   "outputs": [],
   "source": [
    "import chromadb"
   ]
  },
  {
   "cell_type": "code",
   "execution_count": 32,
   "id": "590826aa-8133-4ea1-a3d0-06c0ad90fa90",
   "metadata": {},
   "outputs": [
    {
     "name": "stdout",
     "output_type": "stream",
     "text": [
      "Collecting typing\n",
      "  Downloading typing-3.7.4.3.tar.gz (78 kB)\n",
      "\u001b[2K     \u001b[90m━━━━━━━━━━━━━━━━━━━━━━━━━━━━━━━━━━━━━━━━\u001b[0m \u001b[32m78.6/78.6 kB\u001b[0m \u001b[31m1.6 MB/s\u001b[0m eta \u001b[36m0:00:00\u001b[0ma \u001b[36m0:00:01\u001b[0m\n",
      "\u001b[?25h  Preparing metadata (setup.py) ... \u001b[?25ldone\n",
      "\u001b[?25hBuilding wheels for collected packages: typing\n",
      "  Building wheel for typing (setup.py) ... \u001b[?25ldone\n",
      "\u001b[?25h  Created wheel for typing: filename=typing-3.7.4.3-py3-none-any.whl size=26304 sha256=e622a231776f9d56dd5b831cdb2feb754c6d5383483f29bc416837efc1fc569c\n",
      "  Stored in directory: /Users/prajwalshrestha/Library/Caches/pip/wheels/fa/17/1f/332799f975d1b2d7f9b3f33bbccf65031e794717d24432caee\n",
      "Successfully built typing\n",
      "Installing collected packages: typing\n",
      "Successfully installed typing-3.7.4.3\n"
     ]
    }
   ],
   "source": []
  },
  {
   "cell_type": "code",
   "execution_count": 49,
   "id": "e3f77a61-93a0-488e-a4ce-036ce702b204",
   "metadata": {},
   "outputs": [],
   "source": [
    "chroma_client = chromadb.Client()"
   ]
  },
  {
   "cell_type": "code",
   "execution_count": 52,
   "id": "e2bdd2a7-2739-407c-8a2b-9eeb4dd5fbe4",
   "metadata": {},
   "outputs": [],
   "source": [
    "collection = chroma_client.get_or_create_collection('war_news_metadata_db')"
   ]
  },
  {
   "cell_type": "code",
   "execution_count": 95,
   "id": "98d3fce0-575d-4c70-bbb9-27f3009af5e4",
   "metadata": {},
   "outputs": [],
   "source": [
    "news_df_filtered['news_id'] = news_df_filtered.index"
   ]
  },
  {
   "cell_type": "code",
   "execution_count": null,
   "id": "17b0177f-45d8-4417-90db-32b2e035430b",
   "metadata": {},
   "outputs": [],
   "source": [
    "news_df_filtered.news_id = news_df_filtered['news_id'].astype(str)"
   ]
  },
  {
   "cell_type": "code",
   "execution_count": 105,
   "id": "a176cd04-e3ae-4758-952f-6193e205b840",
   "metadata": {},
   "outputs": [],
   "source": [
    "news_id = news_df_filtered.news_id.to_list()"
   ]
  },
  {
   "cell_type": "code",
   "execution_count": 146,
   "id": "6950c2a7-187f-48b5-85f5-1075ec557f50",
   "metadata": {},
   "outputs": [],
   "source": [
    "meta_data = news_df_filtered.to_dict(orient='records')"
   ]
  },
  {
   "cell_type": "code",
   "execution_count": 148,
   "id": "7c138750-b8ae-435d-bb2a-33b7d8f4ccd3",
   "metadata": {},
   "outputs": [],
   "source": [
    "#collection.delete(ids=news_ids)\n",
    "collection.add(ids=news_ids, embeddings=embeddings_list, metadatas=meta_data)"
   ]
  },
  {
   "cell_type": "code",
   "execution_count": 149,
   "id": "7503fcae-1de9-4fae-ad14-ce4b46dd0258",
   "metadata": {},
   "outputs": [],
   "source": [
    "current_news = news_df_filtered.sample(1, random_state=2023)"
   ]
  },
  {
   "cell_type": "code",
   "execution_count": 150,
   "id": "0b43803d-f074-477e-865b-6c2c1443e9c0",
   "metadata": {},
   "outputs": [
    {
     "data": {
      "text/html": [
       "<div>\n",
       "<style scoped>\n",
       "    .dataframe tbody tr th:only-of-type {\n",
       "        vertical-align: middle;\n",
       "    }\n",
       "\n",
       "    .dataframe tbody tr th {\n",
       "        vertical-align: top;\n",
       "    }\n",
       "\n",
       "    .dataframe thead th {\n",
       "        text-align: right;\n",
       "    }\n",
       "</style>\n",
       "<table border=\"1\" class=\"dataframe\">\n",
       "  <thead>\n",
       "    <tr style=\"text-align: right;\">\n",
       "      <th></th>\n",
       "      <th>Headlines</th>\n",
       "      <th>Summary</th>\n",
       "      <th>Press</th>\n",
       "      <th>Date</th>\n",
       "      <th>Keyword</th>\n",
       "      <th>news_id</th>\n",
       "    </tr>\n",
       "  </thead>\n",
       "  <tbody>\n",
       "    <tr>\n",
       "      <th>1223</th>\n",
       "      <td>French outrage over US submarine deal will not...</td>\n",
       "      <td>In the U.S., protests erupted in Philadelphia ...</td>\n",
       "      <td>The Conversation</td>\n",
       "      <td>15 Oct 2021</td>\n",
       "      <td>France</td>\n",
       "      <td>1223</td>\n",
       "    </tr>\n",
       "  </tbody>\n",
       "</table>\n",
       "</div>"
      ],
      "text/plain": [
       "                                              Headlines  \\\n",
       "1223  French outrage over US submarine deal will not...   \n",
       "\n",
       "                                                Summary             Press  \\\n",
       "1223  In the U.S., protests erupted in Philadelphia ...  The Conversation   \n",
       "\n",
       "             Date Keyword  news_id  \n",
       "1223  15 Oct 2021  France     1223  "
      ]
     },
     "execution_count": 150,
     "metadata": {},
     "output_type": "execute_result"
    }
   ],
   "source": [
    "current_news"
   ]
  },
  {
   "cell_type": "code",
   "execution_count": 151,
   "id": "a18eb071-fa44-4976-99e4-964b66a722ac",
   "metadata": {},
   "outputs": [],
   "source": [
    "current_news_id = current_news.index.values[0]"
   ]
  },
  {
   "cell_type": "code",
   "execution_count": 152,
   "id": "12861c06-7c90-421b-ba0c-310818c11853",
   "metadata": {},
   "outputs": [
    {
     "data": {
      "text/plain": [
       "1223"
      ]
     },
     "execution_count": 152,
     "metadata": {},
     "output_type": "execute_result"
    }
   ],
   "source": [
    "current_news_id"
   ]
  },
  {
   "cell_type": "code",
   "execution_count": 153,
   "id": "e8ee024b-6a93-46cd-9460-dc2791d05ab7",
   "metadata": {},
   "outputs": [],
   "source": [
    "current_news_meta_data = collection.get(ids=[str(current_news_id)], include=['embeddings'])"
   ]
  },
  {
   "cell_type": "code",
   "execution_count": null,
   "id": "e577ae61-c41d-4cee-afb5-6eec960d80a0",
   "metadata": {},
   "outputs": [],
   "source": []
  },
  {
   "cell_type": "code",
   "execution_count": 155,
   "id": "65b4e373-8738-4a8e-85d8-3e6c8ae21d06",
   "metadata": {},
   "outputs": [],
   "source": [
    "query = current_news_meta_data['embeddings']"
   ]
  },
  {
   "cell_type": "code",
   "execution_count": null,
   "id": "6e02771e-1542-43a8-9d0b-a72423b6fea2",
   "metadata": {},
   "outputs": [],
   "source": []
  },
  {
   "cell_type": "code",
   "execution_count": 157,
   "id": "a9ec9bbd-dbd1-49ca-8bde-e8e7dd17f6d3",
   "metadata": {},
   "outputs": [],
   "source": [
    "result = collection.query(query_embeddings=query, n_results=5)"
   ]
  },
  {
   "cell_type": "code",
   "execution_count": 158,
   "id": "c285ed14-1091-48ae-a173-10b8ec259301",
   "metadata": {},
   "outputs": [
    {
     "data": {
      "text/plain": [
       "{'ids': [['1223', '1164', '1055', '1240', '1242']],\n",
       " 'distances': [[0.0,\n",
       "   11.051956176757812,\n",
       "   11.83742904663086,\n",
       "   12.476518630981445,\n",
       "   12.536988258361816]],\n",
       " 'metadatas': [[{'Date': '15 Oct 2021',\n",
       "    'Headlines': 'French outrage over US submarine deal will not sink a longstanding alliance',\n",
       "    'Keyword': 'France',\n",
       "    'Press': 'The Conversation',\n",
       "    'Summary': 'In the U.S., protests erupted in Philadelphia demanding war with France. \\nAnd Congress soon passed legislation to fund a naval force,...',\n",
       "    'news_id': 1223},\n",
       "   {'Date': '17 Sep 2021',\n",
       "    'Headlines': 'France cancels Washington reception and tones down celebrations of \\nUS-French Revolutionary War victory amid submarine spat',\n",
       "    'Keyword': 'France',\n",
       "    'Press': 'CNN',\n",
       "    'Summary': 'France cancels Washington reception and tones down celebrations of \\nUS-French Revolutionary War victory amid submarine spat ; 01:06. Why France \\nis...',\n",
       "    'news_id': 1164},\n",
       "   {'Date': '12 hours ago',\n",
       "    'Headlines': 'Joint U.S. Forces participate in V-E Day and Marara 22',\n",
       "    'Keyword': 'France',\n",
       "    'Press': 'U.S. Army',\n",
       "    'Summary': '... War in Europe after the Nazi capitulation,” said French Colonel Olivier \\n... and this is what France represents with its strategy of a...',\n",
       "    'news_id': 1055},\n",
       "   {'Date': '6 May 2021',\n",
       "    'Headlines': 'Four months into Brexit, the UK and France have resorted to gunboat \\ndiplomacy over fish',\n",
       "    'Keyword': 'France',\n",
       "    'Press': 'CNN',\n",
       "    'Summary': '... forgiven for thinking that the UK was preparing for war with France. \\n... By mid-afternoon, the French fishing boats were reported to be...',\n",
       "    'news_id': 1240},\n",
       "   {'Date': '16 Sep 2021',\n",
       "    'Headlines': \"U.S. Says It Gave France Hours' Notice of Deal With Australia\",\n",
       "    'Keyword': 'France',\n",
       "    'Press': 'The New York Times',\n",
       "    'Summary': 'The degree of French anger recalled the acrimony between Paris and \\nWashington in 2003 over the Iraq war and involved language not seen since...',\n",
       "    'news_id': 1242}]],\n",
       " 'embeddings': None,\n",
       " 'documents': [[None, None, None, None, None]],\n",
       " 'uris': None,\n",
       " 'data': None}"
      ]
     },
     "execution_count": 158,
     "metadata": {},
     "output_type": "execute_result"
    }
   ],
   "source": [
    "result"
   ]
  },
  {
   "cell_type": "markdown",
   "id": "13c0ed30-98eb-4d0a-b735-2fa9c30982a0",
   "metadata": {},
   "source": [
    "# Reranking"
   ]
  },
  {
   "cell_type": "code",
   "execution_count": 159,
   "id": "2613ccd8-e752-4725-9137-5e83e09a872c",
   "metadata": {},
   "outputs": [],
   "source": [
    "reranked_result = collection.query(query_embeddings=query, n_results=5, where={'news_id': {'$ne': int(current_news_id)}})"
   ]
  },
  {
   "cell_type": "code",
   "execution_count": 160,
   "id": "8fe988a4-6112-4ea2-963f-6e3a760b13ff",
   "metadata": {},
   "outputs": [
    {
     "data": {
      "text/plain": [
       "{'ids': [['1164', '1055', '1240', '1242', '1239']],\n",
       " 'distances': [[11.051956176757812,\n",
       "   11.83742904663086,\n",
       "   12.476518630981445,\n",
       "   12.536988258361816,\n",
       "   12.731101989746094]],\n",
       " 'metadatas': [[{'Date': '17 Sep 2021',\n",
       "    'Headlines': 'France cancels Washington reception and tones down celebrations of \\nUS-French Revolutionary War victory amid submarine spat',\n",
       "    'Keyword': 'France',\n",
       "    'Press': 'CNN',\n",
       "    'Summary': 'France cancels Washington reception and tones down celebrations of \\nUS-French Revolutionary War victory amid submarine spat ; 01:06. Why France \\nis...',\n",
       "    'news_id': 1164},\n",
       "   {'Date': '12 hours ago',\n",
       "    'Headlines': 'Joint U.S. Forces participate in V-E Day and Marara 22',\n",
       "    'Keyword': 'France',\n",
       "    'Press': 'U.S. Army',\n",
       "    'Summary': '... War in Europe after the Nazi capitulation,” said French Colonel Olivier \\n... and this is what France represents with its strategy of a...',\n",
       "    'news_id': 1055},\n",
       "   {'Date': '6 May 2021',\n",
       "    'Headlines': 'Four months into Brexit, the UK and France have resorted to gunboat \\ndiplomacy over fish',\n",
       "    'Keyword': 'France',\n",
       "    'Press': 'CNN',\n",
       "    'Summary': '... forgiven for thinking that the UK was preparing for war with France. \\n... By mid-afternoon, the French fishing boats were reported to be...',\n",
       "    'news_id': 1240},\n",
       "   {'Date': '16 Sep 2021',\n",
       "    'Headlines': \"U.S. Says It Gave France Hours' Notice of Deal With Australia\",\n",
       "    'Keyword': 'France',\n",
       "    'Press': 'The New York Times',\n",
       "    'Summary': 'The degree of French anger recalled the acrimony between Paris and \\nWashington in 2003 over the Iraq war and involved language not seen since...',\n",
       "    'news_id': 1242},\n",
       "   {'Date': '8 Sep 2021',\n",
       "    'Headlines': 'France’s Military Is A Powerful – But Fragile – Ally Against Russia, Says \\nU.S. Study',\n",
       "    'Keyword': 'France',\n",
       "    'Press': 'Forbes',\n",
       "    'Summary': 'And the French military would be an invaluable asset in a NATO-Russia \\nconflict. “France could support a U.S.-led war in Eastern Europe; it has...',\n",
       "    'news_id': 1239}]],\n",
       " 'embeddings': None,\n",
       " 'documents': [[None, None, None, None, None]],\n",
       " 'uris': None,\n",
       " 'data': None}"
      ]
     },
     "execution_count": 160,
     "metadata": {},
     "output_type": "execute_result"
    }
   ],
   "source": [
    "reranked_result"
   ]
  },
  {
   "cell_type": "code",
   "execution_count": 163,
   "id": "25a74ed7-3839-4298-824b-4d54bb7a840b",
   "metadata": {},
   "outputs": [],
   "source": [
    "recommendations = pd.DataFrame(reranked_result['metadatas'][0])"
   ]
  },
  {
   "cell_type": "code",
   "execution_count": 164,
   "id": "b9bae343-2662-4392-aa7c-538cc0ae8ce2",
   "metadata": {},
   "outputs": [
    {
     "data": {
      "text/html": [
       "<div>\n",
       "<style scoped>\n",
       "    .dataframe tbody tr th:only-of-type {\n",
       "        vertical-align: middle;\n",
       "    }\n",
       "\n",
       "    .dataframe tbody tr th {\n",
       "        vertical-align: top;\n",
       "    }\n",
       "\n",
       "    .dataframe thead th {\n",
       "        text-align: right;\n",
       "    }\n",
       "</style>\n",
       "<table border=\"1\" class=\"dataframe\">\n",
       "  <thead>\n",
       "    <tr style=\"text-align: right;\">\n",
       "      <th></th>\n",
       "      <th>Date</th>\n",
       "      <th>Headlines</th>\n",
       "      <th>Keyword</th>\n",
       "      <th>Press</th>\n",
       "      <th>Summary</th>\n",
       "      <th>news_id</th>\n",
       "    </tr>\n",
       "  </thead>\n",
       "  <tbody>\n",
       "    <tr>\n",
       "      <th>0</th>\n",
       "      <td>17 Sep 2021</td>\n",
       "      <td>France cancels Washington reception and tones ...</td>\n",
       "      <td>France</td>\n",
       "      <td>CNN</td>\n",
       "      <td>France cancels Washington reception and tones ...</td>\n",
       "      <td>1164</td>\n",
       "    </tr>\n",
       "    <tr>\n",
       "      <th>1</th>\n",
       "      <td>12 hours ago</td>\n",
       "      <td>Joint U.S. Forces participate in V-E Day and M...</td>\n",
       "      <td>France</td>\n",
       "      <td>U.S. Army</td>\n",
       "      <td>... War in Europe after the Nazi capitulation,...</td>\n",
       "      <td>1055</td>\n",
       "    </tr>\n",
       "    <tr>\n",
       "      <th>2</th>\n",
       "      <td>6 May 2021</td>\n",
       "      <td>Four months into Brexit, the UK and France hav...</td>\n",
       "      <td>France</td>\n",
       "      <td>CNN</td>\n",
       "      <td>... forgiven for thinking that the UK was prep...</td>\n",
       "      <td>1240</td>\n",
       "    </tr>\n",
       "    <tr>\n",
       "      <th>3</th>\n",
       "      <td>16 Sep 2021</td>\n",
       "      <td>U.S. Says It Gave France Hours' Notice of Deal...</td>\n",
       "      <td>France</td>\n",
       "      <td>The New York Times</td>\n",
       "      <td>The degree of French anger recalled the acrimo...</td>\n",
       "      <td>1242</td>\n",
       "    </tr>\n",
       "    <tr>\n",
       "      <th>4</th>\n",
       "      <td>8 Sep 2021</td>\n",
       "      <td>France’s Military Is A Powerful – But Fragile ...</td>\n",
       "      <td>France</td>\n",
       "      <td>Forbes</td>\n",
       "      <td>And the French military would be an invaluable...</td>\n",
       "      <td>1239</td>\n",
       "    </tr>\n",
       "  </tbody>\n",
       "</table>\n",
       "</div>"
      ],
      "text/plain": [
       "           Date                                          Headlines Keyword  \\\n",
       "0   17 Sep 2021  France cancels Washington reception and tones ...  France   \n",
       "1  12 hours ago  Joint U.S. Forces participate in V-E Day and M...  France   \n",
       "2    6 May 2021  Four months into Brexit, the UK and France hav...  France   \n",
       "3   16 Sep 2021  U.S. Says It Gave France Hours' Notice of Deal...  France   \n",
       "4    8 Sep 2021  France’s Military Is A Powerful – But Fragile ...  France   \n",
       "\n",
       "                Press                                            Summary  \\\n",
       "0                 CNN  France cancels Washington reception and tones ...   \n",
       "1           U.S. Army  ... War in Europe after the Nazi capitulation,...   \n",
       "2                 CNN  ... forgiven for thinking that the UK was prep...   \n",
       "3  The New York Times  The degree of French anger recalled the acrimo...   \n",
       "4              Forbes  And the French military would be an invaluable...   \n",
       "\n",
       "   news_id  \n",
       "0     1164  \n",
       "1     1055  \n",
       "2     1240  \n",
       "3     1242  \n",
       "4     1239  "
      ]
     },
     "execution_count": 164,
     "metadata": {},
     "output_type": "execute_result"
    }
   ],
   "source": [
    "recommendations"
   ]
  },
  {
   "cell_type": "code",
   "execution_count": 166,
   "id": "f4657dd8-d2ba-407d-978e-4a01c2649341",
   "metadata": {},
   "outputs": [],
   "source": [
    "recommendations['distance'] = reranked_result['distances'][0]"
   ]
  },
  {
   "cell_type": "code",
   "execution_count": 167,
   "id": "db50b229-c5ae-4eaf-b8a1-e217d76d229c",
   "metadata": {},
   "outputs": [
    {
     "data": {
      "text/html": [
       "<div>\n",
       "<style scoped>\n",
       "    .dataframe tbody tr th:only-of-type {\n",
       "        vertical-align: middle;\n",
       "    }\n",
       "\n",
       "    .dataframe tbody tr th {\n",
       "        vertical-align: top;\n",
       "    }\n",
       "\n",
       "    .dataframe thead th {\n",
       "        text-align: right;\n",
       "    }\n",
       "</style>\n",
       "<table border=\"1\" class=\"dataframe\">\n",
       "  <thead>\n",
       "    <tr style=\"text-align: right;\">\n",
       "      <th></th>\n",
       "      <th>Date</th>\n",
       "      <th>Headlines</th>\n",
       "      <th>Keyword</th>\n",
       "      <th>Press</th>\n",
       "      <th>Summary</th>\n",
       "      <th>news_id</th>\n",
       "      <th>distance</th>\n",
       "    </tr>\n",
       "  </thead>\n",
       "  <tbody>\n",
       "    <tr>\n",
       "      <th>0</th>\n",
       "      <td>17 Sep 2021</td>\n",
       "      <td>France cancels Washington reception and tones ...</td>\n",
       "      <td>France</td>\n",
       "      <td>CNN</td>\n",
       "      <td>France cancels Washington reception and tones ...</td>\n",
       "      <td>1164</td>\n",
       "      <td>11.051956</td>\n",
       "    </tr>\n",
       "    <tr>\n",
       "      <th>1</th>\n",
       "      <td>12 hours ago</td>\n",
       "      <td>Joint U.S. Forces participate in V-E Day and M...</td>\n",
       "      <td>France</td>\n",
       "      <td>U.S. Army</td>\n",
       "      <td>... War in Europe after the Nazi capitulation,...</td>\n",
       "      <td>1055</td>\n",
       "      <td>11.837429</td>\n",
       "    </tr>\n",
       "    <tr>\n",
       "      <th>2</th>\n",
       "      <td>6 May 2021</td>\n",
       "      <td>Four months into Brexit, the UK and France hav...</td>\n",
       "      <td>France</td>\n",
       "      <td>CNN</td>\n",
       "      <td>... forgiven for thinking that the UK was prep...</td>\n",
       "      <td>1240</td>\n",
       "      <td>12.476519</td>\n",
       "    </tr>\n",
       "    <tr>\n",
       "      <th>3</th>\n",
       "      <td>16 Sep 2021</td>\n",
       "      <td>U.S. Says It Gave France Hours' Notice of Deal...</td>\n",
       "      <td>France</td>\n",
       "      <td>The New York Times</td>\n",
       "      <td>The degree of French anger recalled the acrimo...</td>\n",
       "      <td>1242</td>\n",
       "      <td>12.536988</td>\n",
       "    </tr>\n",
       "    <tr>\n",
       "      <th>4</th>\n",
       "      <td>8 Sep 2021</td>\n",
       "      <td>France’s Military Is A Powerful – But Fragile ...</td>\n",
       "      <td>France</td>\n",
       "      <td>Forbes</td>\n",
       "      <td>And the French military would be an invaluable...</td>\n",
       "      <td>1239</td>\n",
       "      <td>12.731102</td>\n",
       "    </tr>\n",
       "  </tbody>\n",
       "</table>\n",
       "</div>"
      ],
      "text/plain": [
       "           Date                                          Headlines Keyword  \\\n",
       "0   17 Sep 2021  France cancels Washington reception and tones ...  France   \n",
       "1  12 hours ago  Joint U.S. Forces participate in V-E Day and M...  France   \n",
       "2    6 May 2021  Four months into Brexit, the UK and France hav...  France   \n",
       "3   16 Sep 2021  U.S. Says It Gave France Hours' Notice of Deal...  France   \n",
       "4    8 Sep 2021  France’s Military Is A Powerful – But Fragile ...  France   \n",
       "\n",
       "                Press                                            Summary  \\\n",
       "0                 CNN  France cancels Washington reception and tones ...   \n",
       "1           U.S. Army  ... War in Europe after the Nazi capitulation,...   \n",
       "2                 CNN  ... forgiven for thinking that the UK was prep...   \n",
       "3  The New York Times  The degree of French anger recalled the acrimo...   \n",
       "4              Forbes  And the French military would be an invaluable...   \n",
       "\n",
       "   news_id   distance  \n",
       "0     1164  11.051956  \n",
       "1     1055  11.837429  \n",
       "2     1240  12.476519  \n",
       "3     1242  12.536988  \n",
       "4     1239  12.731102  "
      ]
     },
     "execution_count": 167,
     "metadata": {},
     "output_type": "execute_result"
    }
   ],
   "source": [
    "recommendations"
   ]
  },
  {
   "cell_type": "code",
   "execution_count": null,
   "id": "775a457d-8f1f-41eb-b35d-d2c0a26ba82f",
   "metadata": {},
   "outputs": [],
   "source": []
  }
 ],
 "metadata": {
  "kernelspec": {
   "display_name": "Python 3 (ipykernel)",
   "language": "python",
   "name": "python3"
  },
  "language_info": {
   "codemirror_mode": {
    "name": "ipython",
    "version": 3
   },
   "file_extension": ".py",
   "mimetype": "text/x-python",
   "name": "python",
   "nbconvert_exporter": "python",
   "pygments_lexer": "ipython3",
   "version": "3.11.6"
  }
 },
 "nbformat": 4,
 "nbformat_minor": 5
}
